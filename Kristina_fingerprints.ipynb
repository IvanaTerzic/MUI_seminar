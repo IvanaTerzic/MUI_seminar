{
 "cells": [
  {
   "cell_type": "code",
   "execution_count": null,
   "id": "bed7f1fe",
   "metadata": {},
   "outputs": [],
   "source": [
    "# izracunati fingerprints, izbaciti kojima je varijanca 0, ubaciti u model, usporediti rezultate s prijasnjima"
   ]
  },
  {
   "cell_type": "code",
   "execution_count": null,
   "id": "7adce424",
   "metadata": {},
   "outputs": [],
   "source": [
    "import pandas as pd \n",
    "import numpy as np \n",
    "from rdkit import Chem \n",
    "from rdkit.Chem import AllChem, Draw, Descriptors\n",
    "import xgboost as xgb\n",
    "from sklearn.model_selection import train_test_split\n",
    "from sklearn.metrics import mean_squared_error, r2_score"
   ]
  },
  {
   "cell_type": "code",
   "execution_count": null,
   "id": "feb2f247",
   "metadata": {},
   "outputs": [],
   "source": [
    "data = pd.read_csv('home/ivana/repozitorij/QSAR_Kristina_topljivost/data/solubility_all_new_data.csv', index_col=0)"
   ]
  },
  {
   "cell_type": "code",
   "execution_count": null,
   "id": "06aa9f88",
   "metadata": {},
   "outputs": [],
   "source": [
    "data"
   ]
  },
  {
   "cell_type": "code",
   "execution_count": null,
   "id": "9d664698",
   "metadata": {},
   "outputs": [],
   "source": [
    "# Pretvaranje SMILES iz DataFrame-a u listu molekula\n",
    "smiles_list = data['smiles'].to_list()\n",
    "\n",
    "fps = []  # Lista koja će sadržavati otiske svih molekula\n",
    "\n",
    "for s in smiles_list:\n",
    "    mol = Chem.MolFromSmiles(s)\n",
    "    if mol:  # Provjera da li je molekula valjano konvertirana\n",
    "        fp = AllChem.GetMorganFingerprintAsBitVect(mol, 2, nBits=1024)\n",
    "        fps.append(list(fp.ToBitString()))  # Dodavanje otiska u listu\n",
    "\n",
    "# 'fps' sadrži otiske svih molekula\n",
    "for fp in fps:\n",
    "    print(fp)"
   ]
  },
  {
   "cell_type": "code",
   "execution_count": null,
   "id": "56445a2d",
   "metadata": {},
   "outputs": [],
   "source": [
    "#data['fingerprints'] = fps"
   ]
  },
  {
   "cell_type": "code",
   "execution_count": null,
   "id": "ebe4cdcc",
   "metadata": {},
   "outputs": [],
   "source": [
    "# Pretvaranje liste otisaka u DataFrame\n",
    "fp_df = pd.DataFrame(fps)\n",
    "print(data.shape, fp_df.shape)\n",
    "\n",
    "# Spajanje otisaka s originalnim podacima\n",
    "data_fp = pd.concat([data, fp_df], axis=1)"
   ]
  },
  {
   "cell_type": "code",
   "execution_count": null,
   "id": "ceda65f4",
   "metadata": {},
   "outputs": [],
   "source": [
    "data_fp.iloc[:, 7:]"
   ]
  },
  {
   "cell_type": "code",
   "execution_count": null,
   "id": "8794382e",
   "metadata": {},
   "outputs": [],
   "source": [
    "data_fp.iloc[:, 7:] = data_fp.iloc[:, 7:].astype(int)"
   ]
  },
  {
   "cell_type": "code",
   "execution_count": null,
   "id": "825e3d92",
   "metadata": {},
   "outputs": [],
   "source": [
    "# Izolirajte kolone otisaka\n",
    "X = data_fp.iloc[:, 7:] \n",
    "\n",
    "# Izračunajte varijancu za svaku kolonu\n",
    "variances = X.var()\n",
    "\n",
    "# Pronađite kolone koje imaju varijancu veću od 1e-2\n",
    "high_variance_cols = variances[variances > 1e-2].index\n",
    "print(high_variance_cols)\n",
    "\n",
    "# Filtrirajte podatke da zadržite samo te kolone\n",
    "data_fp.iloc[:, 7:]=data_fp[high_variance_cols]\n",
    "print(data_fp)\n",
    "\n",
    "# Filtrirajte podatke da zadržite samo te kolone\n",
    "final_data = pd.concat([data_fp.iloc[:, :7], data_fp[high_variance_cols]], axis=1)\n",
    "print(final_data)\n"
   ]
  },
  {
   "cell_type": "code",
   "execution_count": null,
   "id": "83308206",
   "metadata": {},
   "outputs": [],
   "source": [
    "train_set,test_set=train_test_split(final_data,test_size=.2,random_state=42) \n",
    "train_set.shape, test_set.shape"
   ]
  },
  {
   "cell_type": "code",
   "execution_count": null,
   "id": "c6c433bd",
   "metadata": {},
   "outputs": [],
   "source": [
    "# Odabir značajki i ciljne varijable\n",
    "#features = ['molwt', 'logp', 'balabanj', 'tpsa']\n",
    "#features = [final_data.iloc[0,3:]]\n",
    "features = final_data.columns[3:]\n",
    "target = 'Solubility'\n",
    "\n",
    "# Podijela podataka na skupove za treniranje, validaciju i testiranje\n",
    "X_train, X_test, y_train, y_test = train_test_split(final_data[features], final_data[target], test_size=0.2, random_state=42)\n",
    "X_train, X_valid, y_train, y_valid = train_test_split(X_train, y_train, test_size=0.25, random_state=42)\n",
    "\n",
    "# Treniranje XGBoost modela s ranom zaustavom\n",
    "model = xgb.XGBRegressor(n_estimators=500, learning_rate=0.15, max_depth=3)\n",
    "model.fit(X_train, y_train, early_stopping_rounds=5, eval_set=[(X_valid, y_valid)], verbose=False)\n",
    "\n",
    "# Predviđanje na testnom skupu\n",
    "y_pred = model.predict(X_test)\n",
    "\n",
    "# Izračunavanje srednjekvadratne pogreške\n",
    "mse = mean_squared_error(y_test, y_pred)\n",
    "print('Mean Squared Error:', mse)\n",
    "\n",
    "# Izračunavanje R2 koeficijenta determinacije\n",
    "r2 = r2_score(y_test, y_pred)\n",
    "print('R2 Score:', r2)"
   ]
  },
  {
   "cell_type": "code",
   "execution_count": null,
   "id": "221d9d7e",
   "metadata": {},
   "outputs": [],
   "source": [
    "import matplotlib.pyplot as plt\n",
    "\n",
    "# Predviđanje na testnom skupu\n",
    "y_pred = model.predict(X_test)\n",
    "\n",
    "# Plotanje dijagrama raspršenosti\n",
    "plt.scatter(y_pred, y_test, c='red', label='Predviđene vrijednosti')\n",
    "plt.scatter(y_test, y_test, c='green', label='Stvarne vrijednosti')\n",
    "plt.xlabel('Predviđene vrijednosti')\n",
    "plt.ylabel('Stvarne vrijednosti')\n",
    "plt.title('Dijagram raspršenosti - Stvarne vs Predviđene vrijednosti')\n",
    "\n",
    "plt.legend()\n",
    "plt.show()"
   ]
  },
  {
   "cell_type": "code",
   "execution_count": null,
   "id": "693c0817",
   "metadata": {},
   "outputs": [],
   "source": [
    "# Izdvajanje značajki (features) iz dataframe-a\n",
    "features_data = final_data.iloc[:100, 3:]\n",
    "print(type(features_data))\n",
    "\n",
    "# Izračun matrice korelacije\n",
    "corr_matrix = features_data.corr().abs()\n",
    "print(corr_matrix)"
   ]
  },
  {
   "cell_type": "code",
   "execution_count": null,
   "id": "0a49ea30",
   "metadata": {},
   "outputs": [],
   "source": [
    "import seaborn as sns\n",
    "\n",
    "# Izdvajanje značajki (features) iz dataframe-a\n",
    "features_data = final_data.iloc[:500, 3:]\n",
    "\n",
    "# Izračun matrice korelacije\n",
    "corr_matrix = features_data.corr()\n",
    "\n",
    "# Postavljanje veličine grafikona\n",
    "plt.figure(figsize=(15, 12))  # Možete prilagoditi veličinu prema potrebi\n",
    "\n",
    "# Crtanje heatmap\n",
    "sns.heatmap(corr_matrix, cmap='coolwarm', vmin=-1, vmax=1)\n",
    "\n",
    "# Prikaz grafikona\n",
    "plt.title(\"Matrica korelacije\")\n",
    "plt.show()\n"
   ]
  },
  {
   "cell_type": "code",
   "execution_count": null,
   "id": "d61b3aa6",
   "metadata": {},
   "outputs": [],
   "source": [
    "# Selektiranje gornjeg trokuta matrice korelacije\n",
    "upper = corr_matrix.where(np.triu(np.ones(corr_matrix.shape), k=1).astype(np.bool))\n",
    "#print(upper)\n",
    "\n",
    "# Pronalaženje indeksa značajki koje koreliraju više od 0.99\n",
    "to_drop = [column for column in upper.columns if any(upper[column] > 0.95)]\n",
    "print(to_drop)\n",
    "\n",
    "# Uklanjanje značajki iz originalnog dataframe-a\n",
    "#data_99=final_data.drop(to_drop, axis=1, inplace=True)\n",
    "#print(data_99)"
   ]
  },
  {
   "cell_type": "code",
   "execution_count": null,
   "id": "a42a05ff",
   "metadata": {},
   "outputs": [],
   "source": []
  },
  {
   "cell_type": "code",
   "execution_count": null,
   "id": "15210e31",
   "metadata": {},
   "outputs": [],
   "source": []
  },
  {
   "cell_type": "code",
   "execution_count": null,
   "id": "594172e5",
   "metadata": {},
   "outputs": [],
   "source": [
    "#from rdkit.Chem import AllChem, rdmolops\n",
    "\n",
    "## Pretvaranje SMILES-a u RDKit molekule\n",
    "#data['mol'] = data['smiles'].apply(Chem.MolFromSmiles)\n",
    "\n",
    "## Izračun Morganovih otisaka\n",
    "#data['morgan_fp'] = data['mol'].apply(lambda x: AllChem.GetMorganFingerprintAsBitVect(x, 2, nBits=1024))\n",
    "\n",
    "## Izračun RDKit otisaka\n",
    "#data['rdkit_fp'] = data['mol'].apply(lambda x: rdmolops.RDKFingerprint(x))\n",
    "\n",
    "# #Pretvaranje otisaka u DataFrame\n",
    "#morgan_df = data['morgan_fp'].apply(lambda fp: pd.Series(list(fp.ToBitString()))).astype(int)\n",
    "#rdkit_df = data['rdkit_fp'].apply(lambda fp: pd.Series(list(fp.ToBitString()))).astype(int)\n"
   ]
  },
  {
   "cell_type": "code",
   "execution_count": null,
   "id": "2d21a9cd",
   "metadata": {},
   "outputs": [],
   "source": [
    "#morgan_variances = morgan_df.var()\n",
    "#rdkit_variances = rdkit_df.var()\n",
    "\n",
    "#zero_variance_morgan = morgan_variances[morgan_variances == 0].index.tolist()\n",
    "#zero_variance_rdkit = rdkit_variances[rdkit_variances == 0].index.tolist()\n",
    "\n",
    "#print(f\"Number of bits with zero variance in Morgan fingerprints: {len(zero_variance_morgan)}\")\n",
    "#print(f\"Number of bits with zero variance in RDKit fingerprints: {len(zero_variance_rdkit)}\")\n"
   ]
  },
  {
   "cell_type": "code",
   "execution_count": null,
   "id": "31526930",
   "metadata": {},
   "outputs": [],
   "source": []
  }
 ],
 "metadata": {
  "kernelspec": {
   "display_name": "Python 3 (ipykernel)",
   "language": "python",
   "name": "python3"
  },
  "language_info": {
   "codemirror_mode": {
    "name": "ipython",
    "version": 3
   },
   "file_extension": ".py",
   "mimetype": "text/x-python",
   "name": "python",
   "nbconvert_exporter": "python",
   "pygments_lexer": "ipython3",
   "version": "3.10.12"
  }
 },
 "nbformat": 4,
 "nbformat_minor": 5
}
