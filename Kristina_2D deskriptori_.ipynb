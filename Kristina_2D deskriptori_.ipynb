{
 "cells": [
  {
   "cell_type": "code",
   "execution_count": 14,
   "id": "38cb74c9",
   "metadata": {},
   "outputs": [],
   "source": [
    "#izracunati rdkit 2d deskriptore, istrenirati XGBoost regression model"
   ]
  },
  {
   "cell_type": "code",
   "execution_count": 56,
   "id": "4bc740c0",
   "metadata": {},
   "outputs": [],
   "source": [
    "import pandas as pd \n",
    "import numpy as np \n",
    "from rdkit import Chem \n",
    "from rdkit.Chem import AllChem, Draw, Descriptors\n",
    "import xgboost as xgb\n",
    "from sklearn.model_selection import train_test_split\n",
    "from sklearn.metrics import mean_squared_error, r2_score"
   ]
  },
  {
   "cell_type": "code",
   "execution_count": 16,
   "id": "d75e3fd9",
   "metadata": {},
   "outputs": [],
   "source": [
    "# Učitavanje CSV datoteke\n",
    "data = pd.read_csv('C:/Users/ivana/REPOZITORIJ/DATA/solubility_new.csv')"
   ]
  },
  {
   "cell_type": "code",
   "execution_count": 17,
   "id": "a1346ae3",
   "metadata": {},
   "outputs": [],
   "source": [
    "# Pretvaranje SMILES zapisa u molekulu\n",
    "mol_column=data.smiles.apply(Chem. MolFromSmiles).rename('mol', inplace=True)"
   ]
  },
  {
   "cell_type": "code",
   "execution_count": 18,
   "id": "79bb73ad",
   "metadata": {},
   "outputs": [],
   "source": [
    "# Pretvaranje molekula u numeričke značajke\n",
    "logp=mol_column.apply(Descriptors.MolLogP).rename('logp', inplace=True) \n",
    "molwt=mol_column.apply(Descriptors.MolWt).rename('molwt', inplace=True) \n",
    "balabanj=mol_column.apply(Descriptors.BalabanJ).rename('balabanj', inplace=True) \n",
    "tpsa=mol_column.apply(Descriptors.TPSA).rename('tpsa', inplace=True)"
   ]
  },
  {
   "cell_type": "code",
   "execution_count": 19,
   "id": "c8cdf57c",
   "metadata": {},
   "outputs": [
    {
     "data": {
      "text/html": [
       "<div>\n",
       "<style scoped>\n",
       "    .dataframe tbody tr th:only-of-type {\n",
       "        vertical-align: middle;\n",
       "    }\n",
       "\n",
       "    .dataframe tbody tr th {\n",
       "        vertical-align: top;\n",
       "    }\n",
       "\n",
       "    .dataframe thead th {\n",
       "        text-align: right;\n",
       "    }\n",
       "</style>\n",
       "<table border=\"1\" class=\"dataframe\">\n",
       "  <thead>\n",
       "    <tr style=\"text-align: right;\">\n",
       "      <th></th>\n",
       "      <th>smiles</th>\n",
       "      <th>Solubility</th>\n",
       "      <th>mol</th>\n",
       "      <th>logp</th>\n",
       "      <th>molwt</th>\n",
       "      <th>balabanj</th>\n",
       "      <th>tpsa</th>\n",
       "    </tr>\n",
       "  </thead>\n",
       "  <tbody>\n",
       "    <tr>\n",
       "      <th>0</th>\n",
       "      <td>CCCCCCCCCCCCCCCCCC[N+](C)(C)C</td>\n",
       "      <td>-3.616127</td>\n",
       "      <td>&lt;rdkit.Chem.rdchem.Mol object at 0x000001EAE8C...</td>\n",
       "      <td>6.9541</td>\n",
       "      <td>312.606</td>\n",
       "      <td>2.998602</td>\n",
       "      <td>0.00</td>\n",
       "    </tr>\n",
       "    <tr>\n",
       "      <th>1</th>\n",
       "      <td>c1cc(N(CC2CO2)CC2CO2)ccc1Cc1ccc(N(CC2CO2)CC2CO...</td>\n",
       "      <td>-4.662065</td>\n",
       "      <td>&lt;rdkit.Chem.rdchem.Mol object at 0x000001EAE8C...</td>\n",
       "      <td>2.4854</td>\n",
       "      <td>422.525</td>\n",
       "      <td>1.084427</td>\n",
       "      <td>56.60</td>\n",
       "    </tr>\n",
       "    <tr>\n",
       "      <th>2</th>\n",
       "      <td>CCC1CCC(CCC(=O)O)C1</td>\n",
       "      <td>-3.286116</td>\n",
       "      <td>&lt;rdkit.Chem.rdchem.Mol object at 0x000001EAE8C...</td>\n",
       "      <td>2.6775</td>\n",
       "      <td>170.252</td>\n",
       "      <td>2.145839</td>\n",
       "      <td>37.30</td>\n",
       "    </tr>\n",
       "    <tr>\n",
       "      <th>3</th>\n",
       "      <td>CC12C=CC(=O)C=C1CCC1C2C(O)CC2(C)C1CC(O)C2(O)C(...</td>\n",
       "      <td>-2.664549</td>\n",
       "      <td>&lt;rdkit.Chem.rdchem.Mol object at 0x000001EAE8C...</td>\n",
       "      <td>0.5284</td>\n",
       "      <td>376.449</td>\n",
       "      <td>1.776978</td>\n",
       "      <td>115.06</td>\n",
       "    </tr>\n",
       "    <tr>\n",
       "      <th>4</th>\n",
       "      <td>O=C(OCCCOCCCOC(=O)c1ccccc1)c1ccccc1</td>\n",
       "      <td>-4.595503</td>\n",
       "      <td>&lt;rdkit.Chem.rdchem.Mol object at 0x000001EAE8C...</td>\n",
       "      <td>3.4972</td>\n",
       "      <td>342.391</td>\n",
       "      <td>1.447050</td>\n",
       "      <td>61.83</td>\n",
       "    </tr>\n",
       "  </tbody>\n",
       "</table>\n",
       "</div>"
      ],
      "text/plain": [
       "                                              smiles  Solubility  \\\n",
       "0                      CCCCCCCCCCCCCCCCCC[N+](C)(C)C   -3.616127   \n",
       "1  c1cc(N(CC2CO2)CC2CO2)ccc1Cc1ccc(N(CC2CO2)CC2CO...   -4.662065   \n",
       "2                                CCC1CCC(CCC(=O)O)C1   -3.286116   \n",
       "3  CC12C=CC(=O)C=C1CCC1C2C(O)CC2(C)C1CC(O)C2(O)C(...   -2.664549   \n",
       "4                O=C(OCCCOCCCOC(=O)c1ccccc1)c1ccccc1   -4.595503   \n",
       "\n",
       "                                                 mol    logp    molwt  \\\n",
       "0  <rdkit.Chem.rdchem.Mol object at 0x000001EAE8C...  6.9541  312.606   \n",
       "1  <rdkit.Chem.rdchem.Mol object at 0x000001EAE8C...  2.4854  422.525   \n",
       "2  <rdkit.Chem.rdchem.Mol object at 0x000001EAE8C...  2.6775  170.252   \n",
       "3  <rdkit.Chem.rdchem.Mol object at 0x000001EAE8C...  0.5284  376.449   \n",
       "4  <rdkit.Chem.rdchem.Mol object at 0x000001EAE8C...  3.4972  342.391   \n",
       "\n",
       "   balabanj    tpsa  \n",
       "0  2.998602    0.00  \n",
       "1  1.084427   56.60  \n",
       "2  2.145839   37.30  \n",
       "3  1.776978  115.06  \n",
       "4  1.447050   61.83  "
      ]
     },
     "execution_count": 19,
     "metadata": {},
     "output_type": "execute_result"
    }
   ],
   "source": [
    "final_data=pd.concat([data, mol_column, logp, molwt, balabanj, tpsa], axis=1) \n",
    "final_data.head(5) "
   ]
  },
  {
   "cell_type": "code",
   "execution_count": 20,
   "id": "a51f1de6",
   "metadata": {},
   "outputs": [],
   "source": [
    "final_data.to_csv('C:/Users/ivana/REPOZITORIJ/DATA/solubility_all_new_data.csv')"
   ]
  },
  {
   "cell_type": "code",
   "execution_count": 86,
   "id": "9958ca18",
   "metadata": {},
   "outputs": [
    {
     "data": {
      "text/plain": [
       "((2680, 7), (671, 7))"
      ]
     },
     "execution_count": 86,
     "metadata": {},
     "output_type": "execute_result"
    }
   ],
   "source": [
    "train_set,test_set=train_test_split(final_data,test_size=.2,random_state=42) \n",
    "train_set.shape, test_set.shape"
   ]
  },
  {
   "cell_type": "code",
   "execution_count": 87,
   "id": "8a848c83",
   "metadata": {},
   "outputs": [
    {
     "name": "stdout",
     "output_type": "stream",
     "text": [
      "Mean Squared Error: 1.3469945930203118\n",
      "R2 Score: 0.7038806364864765\n"
     ]
    }
   ],
   "source": [
    "# Odabir značajki i ciljne varijable\n",
    "features = ['molwt', 'logp', 'balabanj', 'tpsa']\n",
    "target = 'Solubility'\n",
    "\n",
    "# Podijela podataka na skupove za treniranje, validaciju i testiranje\n",
    "X_train, X_test, y_train, y_test = train_test_split(final_data[features], final_data[target], test_size=0.2, random_state=42)\n",
    "X_train, X_valid, y_train, y_valid = train_test_split(X_train, y_train, test_size=0.25, random_state=42)\n",
    "\n",
    "# Treniranje XGBoost modela s ranom zaustavom\n",
    "model = xgb.XGBRegressor(n_estimators=500, learning_rate=0.15, max_depth=3)\n",
    "model.fit(X_train, y_train, early_stopping_rounds=5, eval_set=[(X_valid, y_valid)], verbose=False)\n",
    "\n",
    "# Predviđanje na testnom skupu\n",
    "y_pred = model.predict(X_test)\n",
    "\n",
    "# Izračunavanje srednjekvadratne pogreške\n",
    "mse = mean_squared_error(y_test, y_pred)\n",
    "print('Mean Squared Error:', mse)\n",
    "\n",
    "# Izračunavanje R2 koeficijenta determinacije\n",
    "r2 = r2_score(y_test, y_pred)\n",
    "print('R2 Score:', r2)"
   ]
  },
  {
   "cell_type": "code",
   "execution_count": 84,
   "id": "f867da38",
   "metadata": {},
   "outputs": [
    {
     "data": {
      "image/png": "[encoded data removed]",
      "text/plain": [
       "<Figure size 432x288 with 1 Axes>"
      ]
     },
     "metadata": {
      "needs_background": "light"
     },
     "output_type": "display_data"
    }
   ],
   "source": [
    "import matplotlib.pyplot as plt\n",
    "\n",
    "# Predviđanje na testnom skupu\n",
    "y_pred = model.predict(X_test)\n",
    "\n",
    "# Plotanje dijagrama raspršenosti\n",
    "plt.scatter(y_pred, y_test, c='red', label='Predviđene vrijednosti')\n",
    "plt.scatter(y_test, y_test, c='green', label='Stvarne vrijednosti')\n",
    "plt.xlabel('Predviđene vrijednosti')\n",
    "plt.ylabel('Stvarne vrijednosti')\n",
    "plt.title('Dijagram raspršenosti - Stvarne vs Predviđene vrijednosti')\n",
    "\n",
    "plt.legend()\n",
    "plt.show()"
   ]
  },
  {
   "cell_type": "code",
   "execution_count": 92,
   "id": "324ae351",
   "metadata": {},
   "outputs": [
    {
     "ename": "ValueError",
     "evalue": "The truth value of a DataFrame is ambiguous. Use a.empty, a.bool(), a.item(), a.any() or a.all().",
     "output_type": "error",
     "traceback": [
      "\u001b[1;31m---------------------------------------------------------------------------\u001b[0m",
      "\u001b[1;31mValueError\u001b[0m                                Traceback (most recent call last)",
      "\u001b[1;32m<ipython-input-92-dc9d7272e7b0>\u001b[0m in \u001b[0;36m<module>\u001b[1;34m\u001b[0m\n\u001b[0;32m      4\u001b[0m \u001b[1;32mimport\u001b[0m \u001b[0mmultiprocessing\u001b[0m\u001b[1;33m\u001b[0m\u001b[1;33m\u001b[0m\u001b[0m\n\u001b[0;32m      5\u001b[0m \u001b[1;33m\u001b[0m\u001b[0m\n\u001b[1;32m----> 6\u001b[1;33m \u001b[1;32mif\u001b[0m \u001b[0mfinal_data\u001b[0m\u001b[1;33m[\u001b[0m\u001b[1;34m'Solubility'\u001b[0m\u001b[1;33m]\u001b[0m\u001b[1;33m==\u001b[0m \u001b[0mfinal_data\u001b[0m\u001b[1;33m:\u001b[0m\u001b[1;33m\u001b[0m\u001b[1;33m\u001b[0m\u001b[0m\n\u001b[0m\u001b[0;32m      7\u001b[0m     \u001b[0mprint\u001b[0m\u001b[1;33m(\u001b[0m\u001b[1;34m'Parallel Parameter optimization'\u001b[0m\u001b[1;33m)\u001b[0m\u001b[1;33m\u001b[0m\u001b[1;33m\u001b[0m\u001b[0m\n\u001b[0;32m      8\u001b[0m     \u001b[0mX\u001b[0m \u001b[1;33m=\u001b[0m \u001b[0mfinal_data\u001b[0m\u001b[1;33m.\u001b[0m\u001b[0mdrop\u001b[0m\u001b[1;33m(\u001b[0m\u001b[1;34m'Solubility'\u001b[0m\u001b[1;33m,\u001b[0m \u001b[0maxis\u001b[0m\u001b[1;33m=\u001b[0m\u001b[1;36m1\u001b[0m\u001b[1;33m)\u001b[0m\u001b[1;33m\u001b[0m\u001b[1;33m\u001b[0m\u001b[0m\n",
      "\u001b[1;32m~\\anaconda3\\envs\\myenv\\lib\\site-packages\\pandas\\core\\generic.py\u001b[0m in \u001b[0;36m__nonzero__\u001b[1;34m(self)\u001b[0m\n\u001b[0;32m   1328\u001b[0m     \u001b[1;32mdef\u001b[0m \u001b[0m__nonzero__\u001b[0m\u001b[1;33m(\u001b[0m\u001b[0mself\u001b[0m\u001b[1;33m)\u001b[0m\u001b[1;33m:\u001b[0m\u001b[1;33m\u001b[0m\u001b[1;33m\u001b[0m\u001b[0m\n\u001b[0;32m   1329\u001b[0m         raise ValueError(\n\u001b[1;32m-> 1330\u001b[1;33m             \u001b[1;34mf\"The truth value of a {type(self).__name__} is ambiguous. \"\u001b[0m\u001b[1;33m\u001b[0m\u001b[1;33m\u001b[0m\u001b[0m\n\u001b[0m\u001b[0;32m   1331\u001b[0m             \u001b[1;34m\"Use a.empty, a.bool(), a.item(), a.any() or a.all().\"\u001b[0m\u001b[1;33m\u001b[0m\u001b[1;33m\u001b[0m\u001b[0m\n\u001b[0;32m   1332\u001b[0m         )\n",
      "\u001b[1;31mValueError\u001b[0m: The truth value of a DataFrame is ambiguous. Use a.empty, a.bool(), a.item(), a.any() or a.all()."
     ]
    }
   ],
   "source": [
    "from sklearn.model_selection import GridSearchCV\n",
    "from sklearn.datasets import fetch_california_housing\n",
    "import xgboost as xgb\n",
    "import multiprocessing\n",
    "\n",
    "if final_data['Solubility']== final_data:\n",
    "    print('Parallel Parameter optimization')\n",
    "    X = final_data.drop('Solubility', axis=1)\n",
    "    y = final_data['Solubility']\n",
    "    X, y = fetch_california_housing(return_X_y=True)\n",
    "    xgb_model = xgb.XGBRegressor(n_jobs=multiprocessing.cpu_count() // 2)\n",
    "    clf = GridSearchCV(xgb_model, {'max_depth': [2, 4, 6],\n",
    "                                   'n_estimators': [50, 100, 200]}, verbose=1,\n",
    "                       n_jobs=2)\n",
    "    clf.fit(X, y)\n",
    "    print(clf.best_score_)\n",
    "    print(clf.best_params_)"
   ]
  },
  {
   "cell_type": "code",
   "execution_count": null,
   "id": "3d45ce55",
   "metadata": {},
   "outputs": [],
   "source": []
  }
 ],
 "metadata": {
  "kernelspec": {
   "display_name": "Python 3",
   "language": "python",
   "name": "python3"
  },
  "language_info": {
   "codemirror_mode": {
    "name": "ipython",
    "version": 3
   },
   "file_extension": ".py",
   "mimetype": "text/x-python",
   "name": "python",
   "nbconvert_exporter": "python",
   "pygments_lexer": "ipython3",
   "version": "3.6.13"
  }
 },
 "nbformat": 4,
 "nbformat_minor": 5
}
