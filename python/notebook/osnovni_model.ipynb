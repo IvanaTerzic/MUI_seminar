{
 "cells": [
  {
   "cell_type": "markdown",
   "id": "12af040b",
   "metadata": {},
   "source": [
    "# XGBoost regression model - 2d deskriptori"
   ]
  },
  {
   "cell_type": "code",
   "execution_count": 4,
   "id": "d9e1f9bc",
   "metadata": {},
   "outputs": [],
   "source": [
    "import sys\n",
    "sys.path.append('../src')\n",
    "from modules import *"
   ]
  },
  {
   "cell_type": "code",
   "execution_count": 5,
   "id": "fa2106e3-9905-461e-9566-d30e601d82d9",
   "metadata": {},
   "outputs": [],
   "source": [
    "# Učitavanje CSV datoteke\n",
    "data = pd.read_csv('../../data/solubility_new.csv')"
   ]
  },
  {
   "cell_type": "code",
   "execution_count": 6,
   "id": "e7ad14c7",
   "metadata": {},
   "outputs": [
    {
     "data": {
      "text/html": [
       "<div>\n",
       "<style scoped>\n",
       "    .dataframe tbody tr th:only-of-type {\n",
       "        vertical-align: middle;\n",
       "    }\n",
       "\n",
       "    .dataframe tbody tr th {\n",
       "        vertical-align: top;\n",
       "    }\n",
       "\n",
       "    .dataframe thead th {\n",
       "        text-align: right;\n",
       "    }\n",
       "</style>\n",
       "<table border=\"1\" class=\"dataframe\">\n",
       "  <thead>\n",
       "    <tr style=\"text-align: right;\">\n",
       "      <th></th>\n",
       "      <th>smiles</th>\n",
       "      <th>Solubility</th>\n",
       "    </tr>\n",
       "  </thead>\n",
       "  <tbody>\n",
       "    <tr>\n",
       "      <th>0</th>\n",
       "      <td>CCCCCCCCCCCCCCCCCC[N+](C)(C)C</td>\n",
       "      <td>-3.616127</td>\n",
       "    </tr>\n",
       "    <tr>\n",
       "      <th>1</th>\n",
       "      <td>c1cc(N(CC2CO2)CC2CO2)ccc1Cc1ccc(N(CC2CO2)CC2CO...</td>\n",
       "      <td>-4.662065</td>\n",
       "    </tr>\n",
       "    <tr>\n",
       "      <th>2</th>\n",
       "      <td>CCC1CCC(CCC(=O)O)C1</td>\n",
       "      <td>-3.286116</td>\n",
       "    </tr>\n",
       "    <tr>\n",
       "      <th>3</th>\n",
       "      <td>CC12C=CC(=O)C=C1CCC1C2C(O)CC2(C)C1CC(O)C2(O)C(...</td>\n",
       "      <td>-2.664549</td>\n",
       "    </tr>\n",
       "    <tr>\n",
       "      <th>4</th>\n",
       "      <td>O=C(OCCCOCCCOC(=O)c1ccccc1)c1ccccc1</td>\n",
       "      <td>-4.595503</td>\n",
       "    </tr>\n",
       "    <tr>\n",
       "      <th>...</th>\n",
       "      <td>...</td>\n",
       "      <td>...</td>\n",
       "    </tr>\n",
       "    <tr>\n",
       "      <th>3346</th>\n",
       "      <td>C[C@H]1CN(c2c(F)c(N)c3c(=O)c(C(=O)O)cn(C4CC4)c...</td>\n",
       "      <td>-3.370000</td>\n",
       "    </tr>\n",
       "    <tr>\n",
       "      <th>3347</th>\n",
       "      <td>CC1=C(CC(=O)O)c2cc(F)ccc2C1=Cc1ccc([S+](C)[O-]...</td>\n",
       "      <td>-4.500000</td>\n",
       "    </tr>\n",
       "    <tr>\n",
       "      <th>3348</th>\n",
       "      <td>CCCCNc1ccc(C(=O)OCCN(C)C)cc1</td>\n",
       "      <td>-3.010000</td>\n",
       "    </tr>\n",
       "    <tr>\n",
       "      <th>3349</th>\n",
       "      <td>CN(C)[C@@H]1C(O)=C(C(N)=O)C(=O)[C@@]2(O)C(O)=C...</td>\n",
       "      <td>-2.930000</td>\n",
       "    </tr>\n",
       "    <tr>\n",
       "      <th>3350</th>\n",
       "      <td>COc1ccc(CCN(C)CCCC(C#N)(c2ccc(OC)c(OC)c2)C(C)C...</td>\n",
       "      <td>-3.980000</td>\n",
       "    </tr>\n",
       "  </tbody>\n",
       "</table>\n",
       "<p>3351 rows × 2 columns</p>\n",
       "</div>"
      ],
      "text/plain": [
       "                                                 smiles  Solubility\n",
       "0                         CCCCCCCCCCCCCCCCCC[N+](C)(C)C   -3.616127\n",
       "1     c1cc(N(CC2CO2)CC2CO2)ccc1Cc1ccc(N(CC2CO2)CC2CO...   -4.662065\n",
       "2                                   CCC1CCC(CCC(=O)O)C1   -3.286116\n",
       "3     CC12C=CC(=O)C=C1CCC1C2C(O)CC2(C)C1CC(O)C2(O)C(...   -2.664549\n",
       "4                   O=C(OCCCOCCCOC(=O)c1ccccc1)c1ccccc1   -4.595503\n",
       "...                                                 ...         ...\n",
       "3346  C[C@H]1CN(c2c(F)c(N)c3c(=O)c(C(=O)O)cn(C4CC4)c...   -3.370000\n",
       "3347  CC1=C(CC(=O)O)c2cc(F)ccc2C1=Cc1ccc([S+](C)[O-]...   -4.500000\n",
       "3348                       CCCCNc1ccc(C(=O)OCCN(C)C)cc1   -3.010000\n",
       "3349  CN(C)[C@@H]1C(O)=C(C(N)=O)C(=O)[C@@]2(O)C(O)=C...   -2.930000\n",
       "3350  COc1ccc(CCN(C)CCCC(C#N)(c2ccc(OC)c(OC)c2)C(C)C...   -3.980000\n",
       "\n",
       "[3351 rows x 2 columns]"
      ]
     },
     "execution_count": 6,
     "metadata": {},
     "output_type": "execute_result"
    }
   ],
   "source": [
    "data"
   ]
  },
  {
   "cell_type": "code",
   "execution_count": 7,
   "id": "35f9da37-5482-4fe7-badc-3be6fc2ab575",
   "metadata": {},
   "outputs": [],
   "source": [
    "# Pretvaranje SMILES zapisa u molekulu\n",
    "mol_column=data.smiles.apply(Chem. MolFromSmiles).rename('mol', inplace=True)"
   ]
  },
  {
   "cell_type": "code",
   "execution_count": 8,
   "id": "5c4cdec7-2705-4e7f-9b12-b8f99a09800a",
   "metadata": {},
   "outputs": [],
   "source": [
    "# Pretvaranje molekula u numeričke značajke\n",
    "logp=mol_column.apply(Descriptors.MolLogP).rename('logp', inplace=True) \n",
    "molwt=mol_column.apply(Descriptors.MolWt).rename('molwt', inplace=True) \n",
    "balabanj=mol_column.apply(Descriptors.BalabanJ).rename('balabanj', inplace=True) \n",
    "tpsa=mol_column.apply(Descriptors.TPSA).rename('tpsa', inplace=True)"
   ]
  },
  {
   "cell_type": "code",
   "execution_count": 9,
   "id": "78ad73e5-eb95-4108-87e2-7d1669878e2a",
   "metadata": {},
   "outputs": [
    {
     "data": {
      "text/html": [
       "<div>\n",
       "<style scoped>\n",
       "    .dataframe tbody tr th:only-of-type {\n",
       "        vertical-align: middle;\n",
       "    }\n",
       "\n",
       "    .dataframe tbody tr th {\n",
       "        vertical-align: top;\n",
       "    }\n",
       "\n",
       "    .dataframe thead th {\n",
       "        text-align: right;\n",
       "    }\n",
       "</style>\n",
       "<table border=\"1\" class=\"dataframe\">\n",
       "  <thead>\n",
       "    <tr style=\"text-align: right;\">\n",
       "      <th></th>\n",
       "      <th>smiles</th>\n",
       "      <th>Solubility</th>\n",
       "      <th>mol</th>\n",
       "      <th>logp</th>\n",
       "      <th>molwt</th>\n",
       "      <th>balabanj</th>\n",
       "      <th>tpsa</th>\n",
       "    </tr>\n",
       "  </thead>\n",
       "  <tbody>\n",
       "    <tr>\n",
       "      <th>0</th>\n",
       "      <td>CCCCCCCCCCCCCCCCCC[N+](C)(C)C</td>\n",
       "      <td>-3.616127</td>\n",
       "      <td>&lt;rdkit.Chem.rdchem.Mol object at 0x7fc4bd5077d0&gt;</td>\n",
       "      <td>6.9541</td>\n",
       "      <td>312.606</td>\n",
       "      <td>2.998602</td>\n",
       "      <td>0.00</td>\n",
       "    </tr>\n",
       "    <tr>\n",
       "      <th>1</th>\n",
       "      <td>c1cc(N(CC2CO2)CC2CO2)ccc1Cc1ccc(N(CC2CO2)CC2CO...</td>\n",
       "      <td>-4.662065</td>\n",
       "      <td>&lt;rdkit.Chem.rdchem.Mol object at 0x7fc4bd507680&gt;</td>\n",
       "      <td>2.4854</td>\n",
       "      <td>422.525</td>\n",
       "      <td>1.084427</td>\n",
       "      <td>56.60</td>\n",
       "    </tr>\n",
       "    <tr>\n",
       "      <th>2</th>\n",
       "      <td>CCC1CCC(CCC(=O)O)C1</td>\n",
       "      <td>-3.286116</td>\n",
       "      <td>&lt;rdkit.Chem.rdchem.Mol object at 0x7fc4bd507840&gt;</td>\n",
       "      <td>2.6775</td>\n",
       "      <td>170.252</td>\n",
       "      <td>2.145839</td>\n",
       "      <td>37.30</td>\n",
       "    </tr>\n",
       "    <tr>\n",
       "      <th>3</th>\n",
       "      <td>CC12C=CC(=O)C=C1CCC1C2C(O)CC2(C)C1CC(O)C2(O)C(...</td>\n",
       "      <td>-2.664549</td>\n",
       "      <td>&lt;rdkit.Chem.rdchem.Mol object at 0x7fc4bd507990&gt;</td>\n",
       "      <td>0.5284</td>\n",
       "      <td>376.449</td>\n",
       "      <td>1.776978</td>\n",
       "      <td>115.06</td>\n",
       "    </tr>\n",
       "    <tr>\n",
       "      <th>4</th>\n",
       "      <td>O=C(OCCCOCCCOC(=O)c1ccccc1)c1ccccc1</td>\n",
       "      <td>-4.595503</td>\n",
       "      <td>&lt;rdkit.Chem.rdchem.Mol object at 0x7fc4bd507df0&gt;</td>\n",
       "      <td>3.4972</td>\n",
       "      <td>342.391</td>\n",
       "      <td>1.447050</td>\n",
       "      <td>61.83</td>\n",
       "    </tr>\n",
       "    <tr>\n",
       "      <th>5</th>\n",
       "      <td>CC(C)(C)c1ccc(OCC2CO2)cc1</td>\n",
       "      <td>-3.430239</td>\n",
       "      <td>&lt;rdkit.Chem.rdchem.Mol object at 0x7fc4bd507450&gt;</td>\n",
       "      <td>2.7617</td>\n",
       "      <td>206.285</td>\n",
       "      <td>1.961588</td>\n",
       "      <td>21.76</td>\n",
       "    </tr>\n",
       "    <tr>\n",
       "      <th>6</th>\n",
       "      <td>COCCCCC(=O)c1ccc(C(F)(F)F)cc1</td>\n",
       "      <td>-3.544060</td>\n",
       "      <td>&lt;rdkit.Chem.rdchem.Mol object at 0x7fc4bd5076f0&gt;</td>\n",
       "      <td>3.7048</td>\n",
       "      <td>260.255</td>\n",
       "      <td>2.542670</td>\n",
       "      <td>26.30</td>\n",
       "    </tr>\n",
       "    <tr>\n",
       "      <th>7</th>\n",
       "      <td>CC(C)=CCC/C(C)=C\\CO</td>\n",
       "      <td>-2.320601</td>\n",
       "      <td>&lt;rdkit.Chem.rdchem.Mol object at 0x7fc4bd507530&gt;</td>\n",
       "      <td>2.6714</td>\n",
       "      <td>154.253</td>\n",
       "      <td>3.544387</td>\n",
       "      <td>20.23</td>\n",
       "    </tr>\n",
       "    <tr>\n",
       "      <th>8</th>\n",
       "      <td>CCC(C)(CCC(C)C)C(=O)OCC1CO1</td>\n",
       "      <td>-3.513469</td>\n",
       "      <td>&lt;rdkit.Chem.rdchem.Mol object at 0x7fc4bd507760&gt;</td>\n",
       "      <td>2.7809</td>\n",
       "      <td>228.332</td>\n",
       "      <td>2.374960</td>\n",
       "      <td>38.83</td>\n",
       "    </tr>\n",
       "    <tr>\n",
       "      <th>9</th>\n",
       "      <td>CC(C)CCCCCOC(=O)CCS</td>\n",
       "      <td>-4.454382</td>\n",
       "      <td>&lt;rdkit.Chem.rdchem.Mol object at 0x7fc4bd507a00&gt;</td>\n",
       "      <td>3.0659</td>\n",
       "      <td>218.362</td>\n",
       "      <td>3.092076</td>\n",
       "      <td>26.30</td>\n",
       "    </tr>\n",
       "  </tbody>\n",
       "</table>\n",
       "</div>"
      ],
      "text/plain": [
       "                                              smiles  Solubility  \\\n",
       "0                      CCCCCCCCCCCCCCCCCC[N+](C)(C)C   -3.616127   \n",
       "1  c1cc(N(CC2CO2)CC2CO2)ccc1Cc1ccc(N(CC2CO2)CC2CO...   -4.662065   \n",
       "2                                CCC1CCC(CCC(=O)O)C1   -3.286116   \n",
       "3  CC12C=CC(=O)C=C1CCC1C2C(O)CC2(C)C1CC(O)C2(O)C(...   -2.664549   \n",
       "4                O=C(OCCCOCCCOC(=O)c1ccccc1)c1ccccc1   -4.595503   \n",
       "5                          CC(C)(C)c1ccc(OCC2CO2)cc1   -3.430239   \n",
       "6                      COCCCCC(=O)c1ccc(C(F)(F)F)cc1   -3.544060   \n",
       "7                                CC(C)=CCC/C(C)=C\\CO   -2.320601   \n",
       "8                        CCC(C)(CCC(C)C)C(=O)OCC1CO1   -3.513469   \n",
       "9                                CC(C)CCCCCOC(=O)CCS   -4.454382   \n",
       "\n",
       "                                                mol    logp    molwt  \\\n",
       "0  <rdkit.Chem.rdchem.Mol object at 0x7fc4bd5077d0>  6.9541  312.606   \n",
       "1  <rdkit.Chem.rdchem.Mol object at 0x7fc4bd507680>  2.4854  422.525   \n",
       "2  <rdkit.Chem.rdchem.Mol object at 0x7fc4bd507840>  2.6775  170.252   \n",
       "3  <rdkit.Chem.rdchem.Mol object at 0x7fc4bd507990>  0.5284  376.449   \n",
       "4  <rdkit.Chem.rdchem.Mol object at 0x7fc4bd507df0>  3.4972  342.391   \n",
       "5  <rdkit.Chem.rdchem.Mol object at 0x7fc4bd507450>  2.7617  206.285   \n",
       "6  <rdkit.Chem.rdchem.Mol object at 0x7fc4bd5076f0>  3.7048  260.255   \n",
       "7  <rdkit.Chem.rdchem.Mol object at 0x7fc4bd507530>  2.6714  154.253   \n",
       "8  <rdkit.Chem.rdchem.Mol object at 0x7fc4bd507760>  2.7809  228.332   \n",
       "9  <rdkit.Chem.rdchem.Mol object at 0x7fc4bd507a00>  3.0659  218.362   \n",
       "\n",
       "   balabanj    tpsa  \n",
       "0  2.998602    0.00  \n",
       "1  1.084427   56.60  \n",
       "2  2.145839   37.30  \n",
       "3  1.776978  115.06  \n",
       "4  1.447050   61.83  \n",
       "5  1.961588   21.76  \n",
       "6  2.542670   26.30  \n",
       "7  3.544387   20.23  \n",
       "8  2.374960   38.83  \n",
       "9  3.092076   26.30  "
      ]
     },
     "execution_count": 9,
     "metadata": {},
     "output_type": "execute_result"
    }
   ],
   "source": [
    "final_data=pd.concat([data, mol_column, logp, molwt, balabanj, tpsa], axis=1) \n",
    "final_data.head(10) "
   ]
  },
  {
   "cell_type": "code",
   "execution_count": 10,
   "id": "38a2cb45",
   "metadata": {},
   "outputs": [
    {
     "data": {
      "text/html": [
       "<div>\n",
       "<style scoped>\n",
       "    .dataframe tbody tr th:only-of-type {\n",
       "        vertical-align: middle;\n",
       "    }\n",
       "\n",
       "    .dataframe tbody tr th {\n",
       "        vertical-align: top;\n",
       "    }\n",
       "\n",
       "    .dataframe thead th {\n",
       "        text-align: right;\n",
       "    }\n",
       "</style>\n",
       "<table border=\"1\" class=\"dataframe\">\n",
       "  <thead>\n",
       "    <tr style=\"text-align: right;\">\n",
       "      <th></th>\n",
       "      <th>Solubility</th>\n",
       "      <th>logp</th>\n",
       "      <th>molwt</th>\n",
       "      <th>balabanj</th>\n",
       "      <th>tpsa</th>\n",
       "    </tr>\n",
       "  </thead>\n",
       "  <tbody>\n",
       "    <tr>\n",
       "      <th>count</th>\n",
       "      <td>3351.000000</td>\n",
       "      <td>3351.000000</td>\n",
       "      <td>3351.000000</td>\n",
       "      <td>3351.000000</td>\n",
       "      <td>3351.000000</td>\n",
       "    </tr>\n",
       "    <tr>\n",
       "      <th>mean</th>\n",
       "      <td>-3.447088</td>\n",
       "      <td>3.037575</td>\n",
       "      <td>299.859541</td>\n",
       "      <td>2.633169</td>\n",
       "      <td>60.594097</td>\n",
       "    </tr>\n",
       "    <tr>\n",
       "      <th>std</th>\n",
       "      <td>2.192194</td>\n",
       "      <td>2.834571</td>\n",
       "      <td>150.503923</td>\n",
       "      <td>0.899036</td>\n",
       "      <td>47.542862</td>\n",
       "    </tr>\n",
       "    <tr>\n",
       "      <th>min</th>\n",
       "      <td>-13.171900</td>\n",
       "      <td>-17.406400</td>\n",
       "      <td>92.141000</td>\n",
       "      <td>0.000000</td>\n",
       "      <td>0.000000</td>\n",
       "    </tr>\n",
       "    <tr>\n",
       "      <th>25%</th>\n",
       "      <td>-4.789493</td>\n",
       "      <td>1.538850</td>\n",
       "      <td>198.306000</td>\n",
       "      <td>1.957481</td>\n",
       "      <td>26.300000</td>\n",
       "    </tr>\n",
       "    <tr>\n",
       "      <th>50%</th>\n",
       "      <td>-3.286478</td>\n",
       "      <td>2.751300</td>\n",
       "      <td>275.348000</td>\n",
       "      <td>2.477208</td>\n",
       "      <td>52.320000</td>\n",
       "    </tr>\n",
       "    <tr>\n",
       "      <th>75%</th>\n",
       "      <td>-1.850000</td>\n",
       "      <td>4.103550</td>\n",
       "      <td>357.287500</td>\n",
       "      <td>3.151045</td>\n",
       "      <td>77.660000</td>\n",
       "    </tr>\n",
       "    <tr>\n",
       "      <th>max</th>\n",
       "      <td>2.137682</td>\n",
       "      <td>26.246600</td>\n",
       "      <td>2285.676000</td>\n",
       "      <td>7.517310</td>\n",
       "      <td>633.200000</td>\n",
       "    </tr>\n",
       "  </tbody>\n",
       "</table>\n",
       "</div>"
      ],
      "text/plain": [
       "        Solubility         logp        molwt     balabanj         tpsa\n",
       "count  3351.000000  3351.000000  3351.000000  3351.000000  3351.000000\n",
       "mean     -3.447088     3.037575   299.859541     2.633169    60.594097\n",
       "std       2.192194     2.834571   150.503923     0.899036    47.542862\n",
       "min     -13.171900   -17.406400    92.141000     0.000000     0.000000\n",
       "25%      -4.789493     1.538850   198.306000     1.957481    26.300000\n",
       "50%      -3.286478     2.751300   275.348000     2.477208    52.320000\n",
       "75%      -1.850000     4.103550   357.287500     3.151045    77.660000\n",
       "max       2.137682    26.246600  2285.676000     7.517310   633.200000"
      ]
     },
     "execution_count": 10,
     "metadata": {},
     "output_type": "execute_result"
    }
   ],
   "source": [
    "final_data.describe()"
   ]
  },
  {
   "cell_type": "code",
   "execution_count": 11,
   "id": "4950e595",
   "metadata": {},
   "outputs": [
    {
     "data": {
      "text/plain": [
       "smiles          0\n",
       "Solubility      0\n",
       "mol             0\n",
       "logp            0\n",
       "molwt           0\n",
       "balabanj        1\n",
       "tpsa          149\n",
       "dtype: int64"
      ]
     },
     "execution_count": 11,
     "metadata": {},
     "output_type": "execute_result"
    }
   ],
   "source": [
    "final_data.isin([0]).sum()"
   ]
  },
  {
   "cell_type": "code",
   "execution_count": 12,
   "id": "f07a565f",
   "metadata": {},
   "outputs": [
    {
     "data": {
      "text/plain": [
       "smiles        0\n",
       "Solubility    0\n",
       "mol           0\n",
       "logp          0\n",
       "molwt         0\n",
       "balabanj      0\n",
       "tpsa          0\n",
       "dtype: int64"
      ]
     },
     "execution_count": 12,
     "metadata": {},
     "output_type": "execute_result"
    }
   ],
   "source": [
    "final_data.isnull().sum()"
   ]
  },
  {
   "cell_type": "code",
   "execution_count": 13,
   "id": "2ee5330f",
   "metadata": {},
   "outputs": [
    {
     "name": "stdout",
     "output_type": "stream",
     "text": [
      "<class 'pandas.core.frame.DataFrame'>\n",
      "RangeIndex: 3351 entries, 0 to 3350\n",
      "Data columns (total 7 columns):\n",
      " #   Column      Non-Null Count  Dtype  \n",
      "---  ------      --------------  -----  \n",
      " 0   smiles      3351 non-null   object \n",
      " 1   Solubility  3351 non-null   float64\n",
      " 2   mol         3351 non-null   object \n",
      " 3   logp        3351 non-null   float64\n",
      " 4   molwt       3351 non-null   float64\n",
      " 5   balabanj    3351 non-null   float64\n",
      " 6   tpsa        3351 non-null   float64\n",
      "dtypes: float64(5), object(2)\n",
      "memory usage: 183.4+ KB\n"
     ]
    }
   ],
   "source": [
    "final_data.info()"
   ]
  },
  {
   "cell_type": "code",
   "execution_count": 14,
   "id": "91d18336-174d-4895-a815-c8c6e7e79b0e",
   "metadata": {},
   "outputs": [],
   "source": [
    "final_data.to_csv('../../data/solubility_all_new_data.csv')"
   ]
  },
  {
   "cell_type": "code",
   "execution_count": 15,
   "id": "ede4d182-4beb-4312-b586-666c5bed5fb4",
   "metadata": {},
   "outputs": [
    {
     "data": {
      "text/plain": [
       "((2680, 7), (671, 7))"
      ]
     },
     "execution_count": 15,
     "metadata": {},
     "output_type": "execute_result"
    }
   ],
   "source": [
    "train_set,test_set=train_test_split(final_data,test_size=.2,random_state=42) \n",
    "train_set.shape, test_set.shape"
   ]
  },
  {
   "cell_type": "code",
   "execution_count": 16,
   "id": "22dc0f21-b468-4204-a795-2ec69617d027",
   "metadata": {},
   "outputs": [
    {
     "name": "stdout",
     "output_type": "stream",
     "text": [
      "Mean Squared Error: 1.3117292455726972\n",
      "R2 Score: 0.711633267636135\n"
     ]
    }
   ],
   "source": [
    "# Odabir značajki i ciljne varijable\n",
    "features = ['molwt', 'logp', 'balabanj', 'tpsa']\n",
    "target = 'Solubility'\n",
    "\n",
    "\n",
    "# Podijela podataka na skupove za treniranje, validaciju i testiranje\n",
    "X_train, X_test, y_train, y_test = train_test_split(final_data[features], final_data[target], test_size=0.2, random_state=42)\n",
    "X_train, X_valid, y_train, y_valid = train_test_split(X_train, y_train, test_size=0.25, random_state=42)\n",
    "\n",
    "# Treniranje XGBoost modela s ranom zaustavom\n",
    "model = xgb.XGBRegressor(n_estimators=200, learning_rate=0.1, max_depth=5)\n",
    "model.fit(X_train, y_train, eval_set=[(X_valid, y_valid)], verbose=False)\n",
    "\n",
    "# Predviđanje na testnom skupu\n",
    "y_pred = model.predict(X_test)\n",
    "\n",
    "# Izračunavanje srednjekvadratne pogreške\n",
    "mse = mean_squared_error(y_test, y_pred)\n",
    "print('Mean Squared Error:', mse)\n",
    "\n",
    "# Izračunavanje R2 koeficijenta determinacije\n",
    "r2 = r2_score(y_test, y_pred)\n",
    "print('R2 Score:', r2)"
   ]
  },
  {
   "cell_type": "code",
   "execution_count": 17,
   "id": "4fdf79c9",
   "metadata": {},
   "outputs": [
    {
     "data": {
      "image/png": "[encoded data removed]",
      "text/plain": [
       "<Figure size 432x288 with 1 Axes>"
      ]
     },
     "metadata": {
      "needs_background": "light"
     },
     "output_type": "display_data"
    }
   ],
   "source": [
    "# Predviđanje na testnom skupu\n",
    "y_pred = model.predict(X_test)\n",
    "\n",
    "# Plotanje dijagrama raspršenosti\n",
    "plt.scatter(y_test, y_pred, c='red', label='Predviđene vrijednosti')\n",
    "plt.plot([min(y_test), max(y_test)], [min(y_test), max(y_test)], linestyle='--', color='green', label='Linija identiteta')\n",
    "plt.xlabel('Stvarne vrijednosti')\n",
    "plt.ylabel('Predviđene vrijednosti')\n",
    "plt.title('Dijagram raspršenosti - Stvarne vs Predviđene vrijednosti')\n",
    "\n",
    "plt.legend()\n",
    "plt.show()"
   ]
  },
  {
   "cell_type": "code",
   "execution_count": 18,
   "id": "bac7c41d",
   "metadata": {},
   "outputs": [
    {
     "name": "stdout",
     "output_type": "stream",
     "text": [
      "Fitting 3 folds for each of 90 candidates, totalling 270 fits\n",
      "Najbolji parametri: {'learning_rate': 0.1, 'max_depth': 3, 'n_estimators': 104}\n",
      "Mean Squared Error: 1.3169417518514732\n",
      "R2 Score: 0.7104873654553991\n"
     ]
    }
   ],
   "source": [
    "# Definirajte raspon vrijednosti za parametre koje želite optimizirati\n",
    "param_grid = {\n",
    "    'n_estimators': [100, 101,102,103,104,105],\n",
    "    'learning_rate': [0.10, 0.12,0.13,0.14,0.15],\n",
    "    'max_depth': [1, 3, 5]\n",
    "}\n",
    "\n",
    "# Inicijalizirajte model koji želite optimizirati\n",
    "model = xgb.XGBRegressor()\n",
    "\n",
    "# Inicijalizirajte pretraživač po rešetci s modelom i parametrima\n",
    "grid_search = GridSearchCV(model, param_grid, cv=3, scoring='neg_mean_squared_error', verbose=1)\n",
    "\n",
    "# Izvršite pretraživanje po rešetci na podacima za treniranje\n",
    "grid_search.fit(X_train, y_train)\n",
    "\n",
    "# Ispišite najbolje kombinacije parametara\n",
    "print(\"Najbolji parametri:\", grid_search.best_params_)\n",
    "\n",
    "# Trenirajte model s najboljim parametrima na cijelom skupu za treniranje\n",
    "best_model = grid_search.best_estimator_\n",
    "best_model.fit(X_train, y_train)\n",
    "\n",
    "# Predviđanje na testnom skupu\n",
    "y_pred = best_model.predict(X_test)\n",
    "\n",
    "# Izračunavanje srednjekvadratne pogreške\n",
    "mse = mean_squared_error(y_test, y_pred)\n",
    "print('Mean Squared Error:', mse)\n",
    "\n",
    "# Izračunavanje R2 koeficijenta determinacije\n",
    "r2 = r2_score(y_test, y_pred)\n",
    "print('R2 Score:', r2)"
   ]
  },
  {
   "cell_type": "code",
   "execution_count": 19,
   "id": "55960364",
   "metadata": {},
   "outputs": [
    {
     "data": {
      "text/plain": [
       "0      -3.616127\n",
       "1      -4.662065\n",
       "2      -3.286116\n",
       "3      -2.664549\n",
       "4      -4.595503\n",
       "          ...   \n",
       "3346   -3.370000\n",
       "3347   -4.500000\n",
       "3348   -3.010000\n",
       "3349   -2.930000\n",
       "3350   -3.980000\n",
       "Name: Solubility, Length: 3351, dtype: float64"
      ]
     },
     "execution_count": 19,
     "metadata": {},
     "output_type": "execute_result"
    }
   ],
   "source": [
    "target_name = \"Solubility\"\n",
    "target = data[target_name]\n",
    "target"
   ]
  },
  {
   "cell_type": "code",
   "execution_count": 20,
   "id": "f2f0d0b2",
   "metadata": {},
   "outputs": [
    {
     "data": {
      "text/plain": [
       "(3351, 4)"
      ]
     },
     "execution_count": 20,
     "metadata": {},
     "output_type": "execute_result"
    }
   ],
   "source": [
    "data = final_data.drop(columns=[target_name,'smiles', 'mol'])\n",
    "data.shape"
   ]
  },
  {
   "cell_type": "code",
   "execution_count": 21,
   "id": "c80983f5",
   "metadata": {},
   "outputs": [
    {
     "data": {
      "text/html": [
       "<div>\n",
       "<style scoped>\n",
       "    .dataframe tbody tr th:only-of-type {\n",
       "        vertical-align: middle;\n",
       "    }\n",
       "\n",
       "    .dataframe tbody tr th {\n",
       "        vertical-align: top;\n",
       "    }\n",
       "\n",
       "    .dataframe thead th {\n",
       "        text-align: right;\n",
       "    }\n",
       "</style>\n",
       "<table border=\"1\" class=\"dataframe\">\n",
       "  <thead>\n",
       "    <tr style=\"text-align: right;\">\n",
       "      <th></th>\n",
       "      <th>logp</th>\n",
       "      <th>molwt</th>\n",
       "      <th>balabanj</th>\n",
       "      <th>tpsa</th>\n",
       "    </tr>\n",
       "  </thead>\n",
       "  <tbody>\n",
       "    <tr>\n",
       "      <th>count</th>\n",
       "      <td>2513.000000</td>\n",
       "      <td>2513.000000</td>\n",
       "      <td>2513.000000</td>\n",
       "      <td>2513.000000</td>\n",
       "    </tr>\n",
       "    <tr>\n",
       "      <th>mean</th>\n",
       "      <td>3.014989</td>\n",
       "      <td>298.585649</td>\n",
       "      <td>2.637012</td>\n",
       "      <td>60.803908</td>\n",
       "    </tr>\n",
       "    <tr>\n",
       "      <th>std</th>\n",
       "      <td>2.850893</td>\n",
       "      <td>145.854948</td>\n",
       "      <td>0.900792</td>\n",
       "      <td>47.301138</td>\n",
       "    </tr>\n",
       "    <tr>\n",
       "      <th>min</th>\n",
       "      <td>-17.406400</td>\n",
       "      <td>92.141000</td>\n",
       "      <td>0.000000</td>\n",
       "      <td>0.000000</td>\n",
       "    </tr>\n",
       "    <tr>\n",
       "      <th>25%</th>\n",
       "      <td>1.501100</td>\n",
       "      <td>199.382000</td>\n",
       "      <td>1.957189</td>\n",
       "      <td>26.300000</td>\n",
       "    </tr>\n",
       "    <tr>\n",
       "      <th>50%</th>\n",
       "      <td>2.722800</td>\n",
       "      <td>275.348000</td>\n",
       "      <td>2.493171</td>\n",
       "      <td>52.600000</td>\n",
       "    </tr>\n",
       "    <tr>\n",
       "      <th>75%</th>\n",
       "      <td>4.113400</td>\n",
       "      <td>355.453000</td>\n",
       "      <td>3.153178</td>\n",
       "      <td>78.430000</td>\n",
       "    </tr>\n",
       "    <tr>\n",
       "      <th>max</th>\n",
       "      <td>26.246600</td>\n",
       "      <td>1297.128000</td>\n",
       "      <td>7.517310</td>\n",
       "      <td>633.200000</td>\n",
       "    </tr>\n",
       "  </tbody>\n",
       "</table>\n",
       "</div>"
      ],
      "text/plain": [
       "              logp        molwt     balabanj         tpsa\n",
       "count  2513.000000  2513.000000  2513.000000  2513.000000\n",
       "mean      3.014989   298.585649     2.637012    60.803908\n",
       "std       2.850893   145.854948     0.900792    47.301138\n",
       "min     -17.406400    92.141000     0.000000     0.000000\n",
       "25%       1.501100   199.382000     1.957189    26.300000\n",
       "50%       2.722800   275.348000     2.493171    52.600000\n",
       "75%       4.113400   355.453000     3.153178    78.430000\n",
       "max      26.246600  1297.128000     7.517310   633.200000"
      ]
     },
     "execution_count": 21,
     "metadata": {},
     "output_type": "execute_result"
    }
   ],
   "source": [
    "data_train, data_test, target_train, target_test = train_test_split(\n",
    "    data, target, random_state=42, test_size=0.25\n",
    ")\n",
    "data_train.describe()"
   ]
  },
  {
   "cell_type": "code",
   "execution_count": 22,
   "id": "7a272271",
   "metadata": {},
   "outputs": [],
   "source": [
    "from sklearn.tree import DecisionTreeRegressor\n",
    "\n",
    "regressor = DecisionTreeRegressor(random_state=0)\n",
    "regressor.fit(data, target)\n",
    "\n",
    "from sklearn.model_selection import cross_validate\n",
    "from sklearn.model_selection import ShuffleSplit\n",
    "\n",
    "cv = ShuffleSplit(n_splits=500, test_size=0.3, random_state=42)\n",
    "cv_results = cross_validate(\n",
    "    regressor, data, target, cv=cv, scoring=\"neg_mean_absolute_error\"\n",
    ")"
   ]
  },
  {
   "cell_type": "code",
   "execution_count": 23,
   "id": "0a05207e",
   "metadata": {},
   "outputs": [
    {
     "data": {
      "text/html": [
       "<div>\n",
       "<style scoped>\n",
       "    .dataframe tbody tr th:only-of-type {\n",
       "        vertical-align: middle;\n",
       "    }\n",
       "\n",
       "    .dataframe tbody tr th {\n",
       "        vertical-align: top;\n",
       "    }\n",
       "\n",
       "    .dataframe thead th {\n",
       "        text-align: right;\n",
       "    }\n",
       "</style>\n",
       "<table border=\"1\" class=\"dataframe\">\n",
       "  <thead>\n",
       "    <tr style=\"text-align: right;\">\n",
       "      <th></th>\n",
       "      <th>fit_time</th>\n",
       "      <th>score_time</th>\n",
       "      <th>test_score</th>\n",
       "      <th>test_error</th>\n",
       "    </tr>\n",
       "  </thead>\n",
       "  <tbody>\n",
       "    <tr>\n",
       "      <th>0</th>\n",
       "      <td>0.009901</td>\n",
       "      <td>0.001094</td>\n",
       "      <td>-1.057187</td>\n",
       "      <td>1.057187</td>\n",
       "    </tr>\n",
       "    <tr>\n",
       "      <th>1</th>\n",
       "      <td>0.009974</td>\n",
       "      <td>0.001138</td>\n",
       "      <td>-1.073810</td>\n",
       "      <td>1.073810</td>\n",
       "    </tr>\n",
       "    <tr>\n",
       "      <th>2</th>\n",
       "      <td>0.009782</td>\n",
       "      <td>0.001129</td>\n",
       "      <td>-1.062879</td>\n",
       "      <td>1.062879</td>\n",
       "    </tr>\n",
       "    <tr>\n",
       "      <th>3</th>\n",
       "      <td>0.009615</td>\n",
       "      <td>0.001091</td>\n",
       "      <td>-1.062511</td>\n",
       "      <td>1.062511</td>\n",
       "    </tr>\n",
       "    <tr>\n",
       "      <th>4</th>\n",
       "      <td>0.009842</td>\n",
       "      <td>0.001139</td>\n",
       "      <td>-1.142788</td>\n",
       "      <td>1.142788</td>\n",
       "    </tr>\n",
       "    <tr>\n",
       "      <th>5</th>\n",
       "      <td>0.009578</td>\n",
       "      <td>0.001025</td>\n",
       "      <td>-1.093664</td>\n",
       "      <td>1.093664</td>\n",
       "    </tr>\n",
       "    <tr>\n",
       "      <th>6</th>\n",
       "      <td>0.009833</td>\n",
       "      <td>0.001055</td>\n",
       "      <td>-1.127182</td>\n",
       "      <td>1.127182</td>\n",
       "    </tr>\n",
       "    <tr>\n",
       "      <th>7</th>\n",
       "      <td>0.009759</td>\n",
       "      <td>0.001068</td>\n",
       "      <td>-1.092813</td>\n",
       "      <td>1.092813</td>\n",
       "    </tr>\n",
       "    <tr>\n",
       "      <th>8</th>\n",
       "      <td>0.009330</td>\n",
       "      <td>0.001024</td>\n",
       "      <td>-1.087842</td>\n",
       "      <td>1.087842</td>\n",
       "    </tr>\n",
       "    <tr>\n",
       "      <th>9</th>\n",
       "      <td>0.009576</td>\n",
       "      <td>0.001018</td>\n",
       "      <td>-1.091160</td>\n",
       "      <td>1.091160</td>\n",
       "    </tr>\n",
       "  </tbody>\n",
       "</table>\n",
       "</div>"
      ],
      "text/plain": [
       "   fit_time  score_time  test_score  test_error\n",
       "0  0.009901    0.001094   -1.057187    1.057187\n",
       "1  0.009974    0.001138   -1.073810    1.073810\n",
       "2  0.009782    0.001129   -1.062879    1.062879\n",
       "3  0.009615    0.001091   -1.062511    1.062511\n",
       "4  0.009842    0.001139   -1.142788    1.142788\n",
       "5  0.009578    0.001025   -1.093664    1.093664\n",
       "6  0.009833    0.001055   -1.127182    1.127182\n",
       "7  0.009759    0.001068   -1.092813    1.092813\n",
       "8  0.009330    0.001024   -1.087842    1.087842\n",
       "9  0.009576    0.001018   -1.091160    1.091160"
      ]
     },
     "execution_count": 23,
     "metadata": {},
     "output_type": "execute_result"
    }
   ],
   "source": [
    "cv_results = pd.DataFrame(cv_results)\n",
    "cv_results[\"test_error\"] = -cv_results[\"test_score\"]\n",
    "cv_results.head(10)"
   ]
  },
  {
   "cell_type": "code",
   "execution_count": 24,
   "id": "0d13ffce",
   "metadata": {},
   "outputs": [
    {
     "data": {
      "image/png": "[encoded data removed]",
      "text/plain": [
       "<Figure size 432x288 with 1 Axes>"
      ]
     },
     "metadata": {
      "needs_background": "light"
     },
     "output_type": "display_data"
    }
   ],
   "source": [
    "cv_results[\"test_error\"].plot.hist(bins=10, edgecolor=\"black\")\n",
    "plt.xlabel(\"Mean absolute error\")\n",
    "_ = plt.title(\"Test error distribution\")"
   ]
  },
  {
   "cell_type": "code",
   "execution_count": 25,
   "id": "0dca5218",
   "metadata": {},
   "outputs": [
    {
     "name": "stdout",
     "output_type": "stream",
     "text": [
      "The mean cross-validated testing error is: 1.10\n",
      "The standard deviation of the testing error is: 0.03\n"
     ]
    }
   ],
   "source": [
    "print(\n",
    "    \"The mean cross-validated testing error is: \"\n",
    "    f\"{cv_results['test_error'].mean():.2f}\"\n",
    ")\n",
    "print(\n",
    "    \"The standard deviation of the testing error is: \"\n",
    "    f\"{cv_results['test_error'].std():.2f}\"\n",
    ")"
   ]
  },
  {
   "cell_type": "code",
   "execution_count": 26,
   "id": "e7eed12e",
   "metadata": {},
   "outputs": [
    {
     "data": {
      "image/png": "[encoded data removed]",
      "text/plain": [
       "<Figure size 432x288 with 1 Axes>"
      ]
     },
     "metadata": {
      "needs_background": "light"
     },
     "output_type": "display_data"
    }
   ],
   "source": [
    "target.plot.hist(bins=20, edgecolor=\"black\")\n",
    "plt.xlabel(\"Median Solubility\")\n",
    "_ = plt.title(\"Target distribution\")"
   ]
  },
  {
   "cell_type": "code",
   "execution_count": 29,
   "id": "fb875a44",
   "metadata": {},
   "outputs": [
    {
     "name": "stderr",
     "output_type": "stream",
     "text": [
      "/home/ivana/.local/lib/python3.10/site-packages/pandas/core/arraylike.py:396: RuntimeWarning: invalid value encountered in log\n",
      "  result = getattr(ufunc, method)(*inputs, **kwargs)\n"
     ]
    },
    {
     "data": {
      "image/png": "[encoded data removed]",
      "text/plain": [
       "<Figure size 432x288 with 1 Axes>"
      ]
     },
     "metadata": {
      "needs_background": "light"
     },
     "output_type": "display_data"
    }
   ],
   "source": []
  },
  {
   "cell_type": "code",
   "execution_count": 27,
   "id": "4b7de47d",
   "metadata": {},
   "outputs": [
    {
     "ename": "KeyboardInterrupt",
     "evalue": "",
     "output_type": "error",
     "traceback": [
      "\u001b[0;31m---------------------------------------------------------------------------\u001b[0m",
      "\u001b[0;31mKeyboardInterrupt\u001b[0m                         Traceback (most recent call last)",
      "\u001b[0;32m<ipython-input-27-028f467043a2>\u001b[0m in \u001b[0;36m<module>\u001b[0;34m\u001b[0m\n\u001b[1;32m      2\u001b[0m \u001b[0;34m\u001b[0m\u001b[0m\n\u001b[1;32m      3\u001b[0m \u001b[0mmax_depth\u001b[0m \u001b[0;34m=\u001b[0m \u001b[0mnp\u001b[0m\u001b[0;34m.\u001b[0m\u001b[0marray\u001b[0m\u001b[0;34m(\u001b[0m\u001b[0;34m[\u001b[0m\u001b[0;36m1\u001b[0m\u001b[0;34m,\u001b[0m \u001b[0;36m5\u001b[0m\u001b[0;34m,\u001b[0m \u001b[0;36m10\u001b[0m\u001b[0;34m,\u001b[0m \u001b[0;36m15\u001b[0m\u001b[0;34m,\u001b[0m \u001b[0;36m20\u001b[0m\u001b[0;34m,\u001b[0m \u001b[0;36m25\u001b[0m\u001b[0;34m]\u001b[0m\u001b[0;34m)\u001b[0m\u001b[0;34m\u001b[0m\u001b[0;34m\u001b[0m\u001b[0m\n\u001b[0;32m----> 4\u001b[0;31m disp = ValidationCurveDisplay.from_estimator(\n\u001b[0m\u001b[1;32m      5\u001b[0m     \u001b[0mmodel\u001b[0m\u001b[0;34m,\u001b[0m\u001b[0;34m\u001b[0m\u001b[0;34m\u001b[0m\u001b[0m\n\u001b[1;32m      6\u001b[0m     \u001b[0mdata\u001b[0m\u001b[0;34m,\u001b[0m\u001b[0;34m\u001b[0m\u001b[0;34m\u001b[0m\u001b[0m\n",
      "\u001b[0;32m~/.local/lib/python3.10/site-packages/sklearn/model_selection/_plot.py\u001b[0m in \u001b[0;36mfrom_estimator\u001b[0;34m(cls, estimator, X, y, param_name, param_range, groups, cv, scoring, n_jobs, pre_dispatch, verbose, error_score, fit_params, ax, negate_score, score_name, score_type, std_display_style, line_kw, fill_between_kw, errorbar_kw)\u001b[0m\n\u001b[1;32m    874\u001b[0m         \u001b[0mscore_name\u001b[0m \u001b[0;34m=\u001b[0m \u001b[0m_validate_score_name\u001b[0m\u001b[0;34m(\u001b[0m\u001b[0mscore_name\u001b[0m\u001b[0;34m,\u001b[0m \u001b[0mscoring\u001b[0m\u001b[0;34m,\u001b[0m \u001b[0mnegate_score\u001b[0m\u001b[0;34m)\u001b[0m\u001b[0;34m\u001b[0m\u001b[0;34m\u001b[0m\u001b[0m\n\u001b[1;32m    875\u001b[0m \u001b[0;34m\u001b[0m\u001b[0m\n\u001b[0;32m--> 876\u001b[0;31m         train_scores, test_scores = validation_curve(\n\u001b[0m\u001b[1;32m    877\u001b[0m             \u001b[0mestimator\u001b[0m\u001b[0;34m,\u001b[0m\u001b[0;34m\u001b[0m\u001b[0;34m\u001b[0m\u001b[0m\n\u001b[1;32m    878\u001b[0m             \u001b[0mX\u001b[0m\u001b[0;34m,\u001b[0m\u001b[0;34m\u001b[0m\u001b[0;34m\u001b[0m\u001b[0m\n",
      "\u001b[0;32m~/.local/lib/python3.10/site-packages/sklearn/utils/_param_validation.py\u001b[0m in \u001b[0;36mwrapper\u001b[0;34m(*args, **kwargs)\u001b[0m\n\u001b[1;32m    212\u001b[0m                     )\n\u001b[1;32m    213\u001b[0m                 ):\n\u001b[0;32m--> 214\u001b[0;31m                     \u001b[0;32mreturn\u001b[0m \u001b[0mfunc\u001b[0m\u001b[0;34m(\u001b[0m\u001b[0;34m*\u001b[0m\u001b[0margs\u001b[0m\u001b[0;34m,\u001b[0m \u001b[0;34m**\u001b[0m\u001b[0mkwargs\u001b[0m\u001b[0;34m)\u001b[0m\u001b[0;34m\u001b[0m\u001b[0;34m\u001b[0m\u001b[0m\n\u001b[0m\u001b[1;32m    215\u001b[0m             \u001b[0;32mexcept\u001b[0m \u001b[0mInvalidParameterError\u001b[0m \u001b[0;32mas\u001b[0m \u001b[0me\u001b[0m\u001b[0;34m:\u001b[0m\u001b[0;34m\u001b[0m\u001b[0;34m\u001b[0m\u001b[0m\n\u001b[1;32m    216\u001b[0m                 \u001b[0;31m# When the function is just a wrapper around an estimator, we allow\u001b[0m\u001b[0;34m\u001b[0m\u001b[0;34m\u001b[0m\u001b[0m\n",
      "\u001b[0;32m~/.local/lib/python3.10/site-packages/sklearn/model_selection/_validation.py\u001b[0m in \u001b[0;36mvalidation_curve\u001b[0;34m(estimator, X, y, param_name, param_range, groups, cv, scoring, n_jobs, pre_dispatch, verbose, error_score, fit_params)\u001b[0m\n\u001b[1;32m   1980\u001b[0m \u001b[0;34m\u001b[0m\u001b[0m\n\u001b[1;32m   1981\u001b[0m     \u001b[0mparallel\u001b[0m \u001b[0;34m=\u001b[0m \u001b[0mParallel\u001b[0m\u001b[0;34m(\u001b[0m\u001b[0mn_jobs\u001b[0m\u001b[0;34m=\u001b[0m\u001b[0mn_jobs\u001b[0m\u001b[0;34m,\u001b[0m \u001b[0mpre_dispatch\u001b[0m\u001b[0;34m=\u001b[0m\u001b[0mpre_dispatch\u001b[0m\u001b[0;34m,\u001b[0m \u001b[0mverbose\u001b[0m\u001b[0;34m=\u001b[0m\u001b[0mverbose\u001b[0m\u001b[0;34m)\u001b[0m\u001b[0;34m\u001b[0m\u001b[0;34m\u001b[0m\u001b[0m\n\u001b[0;32m-> 1982\u001b[0;31m     results = parallel(\n\u001b[0m\u001b[1;32m   1983\u001b[0m         delayed(_fit_and_score)(\n\u001b[1;32m   1984\u001b[0m             \u001b[0mclone\u001b[0m\u001b[0;34m(\u001b[0m\u001b[0mestimator\u001b[0m\u001b[0;34m)\u001b[0m\u001b[0;34m,\u001b[0m\u001b[0;34m\u001b[0m\u001b[0;34m\u001b[0m\u001b[0m\n",
      "\u001b[0;32m~/.local/lib/python3.10/site-packages/sklearn/utils/parallel.py\u001b[0m in \u001b[0;36m__call__\u001b[0;34m(self, iterable)\u001b[0m\n\u001b[1;32m     63\u001b[0m             \u001b[0;32mfor\u001b[0m \u001b[0mdelayed_func\u001b[0m\u001b[0;34m,\u001b[0m \u001b[0margs\u001b[0m\u001b[0;34m,\u001b[0m \u001b[0mkwargs\u001b[0m \u001b[0;32min\u001b[0m \u001b[0miterable\u001b[0m\u001b[0;34m\u001b[0m\u001b[0;34m\u001b[0m\u001b[0m\n\u001b[1;32m     64\u001b[0m         )\n\u001b[0;32m---> 65\u001b[0;31m         \u001b[0;32mreturn\u001b[0m \u001b[0msuper\u001b[0m\u001b[0;34m(\u001b[0m\u001b[0;34m)\u001b[0m\u001b[0;34m.\u001b[0m\u001b[0m__call__\u001b[0m\u001b[0;34m(\u001b[0m\u001b[0miterable_with_config\u001b[0m\u001b[0;34m)\u001b[0m\u001b[0;34m\u001b[0m\u001b[0;34m\u001b[0m\u001b[0m\n\u001b[0m\u001b[1;32m     66\u001b[0m \u001b[0;34m\u001b[0m\u001b[0m\n\u001b[1;32m     67\u001b[0m \u001b[0;34m\u001b[0m\u001b[0m\n",
      "\u001b[0;32m~/.local/lib/python3.10/site-packages/joblib/parallel.py\u001b[0m in \u001b[0;36m__call__\u001b[0;34m(self, iterable)\u001b[0m\n\u001b[1;32m   1950\u001b[0m         \u001b[0mnext\u001b[0m\u001b[0;34m(\u001b[0m\u001b[0moutput\u001b[0m\u001b[0;34m)\u001b[0m\u001b[0;34m\u001b[0m\u001b[0;34m\u001b[0m\u001b[0m\n\u001b[1;32m   1951\u001b[0m \u001b[0;34m\u001b[0m\u001b[0m\n\u001b[0;32m-> 1952\u001b[0;31m         \u001b[0;32mreturn\u001b[0m \u001b[0moutput\u001b[0m \u001b[0;32mif\u001b[0m \u001b[0mself\u001b[0m\u001b[0;34m.\u001b[0m\u001b[0mreturn_generator\u001b[0m \u001b[0;32melse\u001b[0m \u001b[0mlist\u001b[0m\u001b[0;34m(\u001b[0m\u001b[0moutput\u001b[0m\u001b[0;34m)\u001b[0m\u001b[0;34m\u001b[0m\u001b[0;34m\u001b[0m\u001b[0m\n\u001b[0m\u001b[1;32m   1953\u001b[0m \u001b[0;34m\u001b[0m\u001b[0m\n\u001b[1;32m   1954\u001b[0m     \u001b[0;32mdef\u001b[0m \u001b[0m__repr__\u001b[0m\u001b[0;34m(\u001b[0m\u001b[0mself\u001b[0m\u001b[0;34m)\u001b[0m\u001b[0;34m:\u001b[0m\u001b[0;34m\u001b[0m\u001b[0;34m\u001b[0m\u001b[0m\n",
      "\u001b[0;32m~/.local/lib/python3.10/site-packages/joblib/parallel.py\u001b[0m in \u001b[0;36m_get_outputs\u001b[0;34m(self, iterator, pre_dispatch)\u001b[0m\n\u001b[1;32m   1593\u001b[0m \u001b[0;34m\u001b[0m\u001b[0m\n\u001b[1;32m   1594\u001b[0m             \u001b[0;32mwith\u001b[0m \u001b[0mself\u001b[0m\u001b[0;34m.\u001b[0m\u001b[0m_backend\u001b[0m\u001b[0;34m.\u001b[0m\u001b[0mretrieval_context\u001b[0m\u001b[0;34m(\u001b[0m\u001b[0;34m)\u001b[0m\u001b[0;34m:\u001b[0m\u001b[0;34m\u001b[0m\u001b[0;34m\u001b[0m\u001b[0m\n\u001b[0;32m-> 1595\u001b[0;31m                 \u001b[0;32myield\u001b[0m \u001b[0;32mfrom\u001b[0m \u001b[0mself\u001b[0m\u001b[0;34m.\u001b[0m\u001b[0m_retrieve\u001b[0m\u001b[0;34m(\u001b[0m\u001b[0;34m)\u001b[0m\u001b[0;34m\u001b[0m\u001b[0;34m\u001b[0m\u001b[0m\n\u001b[0m\u001b[1;32m   1596\u001b[0m \u001b[0;34m\u001b[0m\u001b[0m\n\u001b[1;32m   1597\u001b[0m         \u001b[0;32mexcept\u001b[0m \u001b[0mGeneratorExit\u001b[0m\u001b[0;34m:\u001b[0m\u001b[0;34m\u001b[0m\u001b[0;34m\u001b[0m\u001b[0m\n",
      "\u001b[0;32m~/.local/lib/python3.10/site-packages/joblib/parallel.py\u001b[0m in \u001b[0;36m_retrieve\u001b[0;34m(self)\u001b[0m\n\u001b[1;32m   1705\u001b[0m                 (self._jobs[0].get_status(\n\u001b[1;32m   1706\u001b[0m                     timeout=self.timeout) == TASK_PENDING)):\n\u001b[0;32m-> 1707\u001b[0;31m                 \u001b[0mtime\u001b[0m\u001b[0;34m.\u001b[0m\u001b[0msleep\u001b[0m\u001b[0;34m(\u001b[0m\u001b[0;36m0.01\u001b[0m\u001b[0;34m)\u001b[0m\u001b[0;34m\u001b[0m\u001b[0;34m\u001b[0m\u001b[0m\n\u001b[0m\u001b[1;32m   1708\u001b[0m                 \u001b[0;32mcontinue\u001b[0m\u001b[0;34m\u001b[0m\u001b[0;34m\u001b[0m\u001b[0m\n\u001b[1;32m   1709\u001b[0m \u001b[0;34m\u001b[0m\u001b[0m\n",
      "\u001b[0;31mKeyboardInterrupt\u001b[0m: "
     ]
    }
   ],
   "source": [
    "from sklearn.model_selection import ValidationCurveDisplay\n",
    "\n",
    "max_depth = np.array([1, 5, 10, 15, 20, 25])\n",
    "disp = ValidationCurveDisplay.from_estimator(\n",
    "    model,\n",
    "    data,\n",
    "    target,\n",
    "    param_name=\"max_depth\",\n",
    "    param_range=max_depth,\n",
    "    cv=cv,\n",
    "    scoring=\"neg_mean_absolute_error\",\n",
    "    negate_score=True,\n",
    "    std_display_style=\"errorbar\",\n",
    "    n_jobs=2,\n",
    ")\n",
    "_ = disp.ax_.set(\n",
    "    xlabel=\"Maximum depth of decision tree\",\n",
    "    ylabel=\"Mean absolute error\",\n",
    "    title=\"Validate curve for decision tree\",\n",
    ")"
   ]
  },
  {
   "cell_type": "code",
   "execution_count": null,
   "id": "3372bec7",
   "metadata": {},
   "outputs": [],
   "source": []
  }
 ],
 "metadata": {
  "kernelspec": {
   "display_name": "Python 3",
   "language": "python",
   "name": "python3"
  },
  "language_info": {
   "codemirror_mode": {
    "name": "ipython",
    "version": 3
   },
   "file_extension": ".py",
   "mimetype": "text/x-python",
   "name": "python",
   "nbconvert_exporter": "python",
   "pygments_lexer": "ipython3",
   "version": "3.10.12"
  }
 },
 "nbformat": 4,
 "nbformat_minor": 5
}
