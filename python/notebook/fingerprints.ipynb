{
 "cells": [
  {
   "cell_type": "code",
   "execution_count": 1,
   "id": "8f046795",
   "metadata": {},
   "outputs": [],
   "source": [
    "# izracunati fingerprints, izbaciti kojima je varijanca 0, ubaciti u model, usporediti rezultate s prijasnjima"
   ]
  },
  {
   "cell_type": "markdown",
   "id": "a6003de0",
   "metadata": {},
   "source": [
    "# XGBoost regression model - 2d deskriptori, fingerprints"
   ]
  },
  {
   "cell_type": "code",
   "execution_count": 1,
   "id": "cc194332",
   "metadata": {},
   "outputs": [
    {
     "name": "stderr",
     "output_type": "stream",
     "text": [
      "/usr/lib/python3/dist-packages/scipy/__init__.py:146: UserWarning: A NumPy version >=1.17.3 and <1.25.0 is required for this version of SciPy (detected version 1.26.1\n",
      "  warnings.warn(f\"A NumPy version >={np_minversion} and <{np_maxversion}\"\n"
     ]
    }
   ],
   "source": [
    "import sys\n",
    "sys.path.append('../src')\n",
    "from modules import *\n",
    "from funkcije import calculate_fingerprint"
   ]
  },
  {
   "cell_type": "code",
   "execution_count": 2,
   "id": "389ab69f",
   "metadata": {},
   "outputs": [],
   "source": [
    "data = pd.read_csv('../../data/solubility_all_new_data.csv', index_col=0)"
   ]
  },
  {
   "cell_type": "code",
   "execution_count": 3,
   "id": "dd491f55",
   "metadata": {},
   "outputs": [
    {
     "name": "stdout",
     "output_type": "stream",
     "text": [
      "[0 0 0 ... 0 0 0]\n",
      "[0 0 0 ... 0 0 0]\n",
      "[0 0 0 ... 0 0 0]\n",
      "[0 0 0 ... 0 0 0]\n",
      "[0 0 0 ... 0 0 0]\n",
      "[0 0 0 ... 0 0 0]\n",
      "[0 0 0 ... 0 0 0]\n",
      "[0 0 0 ... 0 0 0]\n",
      "[0 1 0 ... 0 0 0]\n",
      "[0 1 0 ... 0 0 0]\n"
     ]
    }
   ],
   "source": [
    "# Pretvaranje SMILES iz DataFrame-a u listu molekula\n",
    "smiles_list = data['smiles'].to_list()\n",
    "\n",
    "# Paralelno izračunavanje otisaka molekula\n",
    "with concurrent.futures.ThreadPoolExecutor() as executor:\n",
    "    fps = list(executor.map(calculate_fingerprint, smiles_list))\n",
    "\n",
    "# 'fps' sada sadrži otiske svih valjanih molekula\n",
    "for fp in fps[:10]:  # Ispis prvih 10 otisaka \n",
    "    print(fp)"
   ]
  },
  {
   "cell_type": "code",
   "execution_count": 59,
   "id": "c380aa8d",
   "metadata": {},
   "outputs": [
    {
     "data": {
      "text/plain": [
       "array([[0, 0, 0, ..., 0, 0, 0],\n",
       "       [0, 0, 0, ..., 0, 0, 0],\n",
       "       [0, 0, 0, ..., 0, 0, 0],\n",
       "       ...,\n",
       "       [0, 0, 0, ..., 0, 0, 0],\n",
       "       [0, 0, 0, ..., 0, 0, 0],\n",
       "       [0, 1, 0, ..., 0, 0, 0]])"
      ]
     },
     "execution_count": 59,
     "metadata": {},
     "output_type": "execute_result"
    }
   ],
   "source": [
    "from sklearn.feature_selection import VarianceThreshold\n",
    "selector = VarianceThreshold(threshold=0.01)\n",
    "selector.fit(fps)\n",
    "reduced_data = selector.transform(fps)\n",
    "reduced_data"
   ]
  },
  {
   "cell_type": "code",
   "execution_count": 60,
   "id": "44ea2ba3",
   "metadata": {},
   "outputs": [
    {
     "name": "stdout",
     "output_type": "stream",
     "text": [
      "(3351, 7) (3351, 1024)\n"
     ]
    }
   ],
   "source": [
    "# Pretvaranje liste otisaka u DataFrame\n",
    "fp_df = pd.DataFrame(fps)\n",
    "print(data.shape, fp_df.shape)"
   ]
  },
  {
   "cell_type": "code",
   "execution_count": 61,
   "id": "ab2a488e",
   "metadata": {},
   "outputs": [
    {
     "data": {
      "text/plain": [
       "[6,\n",
       " 12,\n",
       " 17,\n",
       " 20,\n",
       " 22,\n",
       " 30,\n",
       " 38,\n",
       " 43,\n",
       " 44,\n",
       " 47,\n",
       " 48,\n",
       " 50,\n",
       " 56,\n",
       " 60,\n",
       " 62,\n",
       " 63,\n",
       " 66,\n",
       " 76,\n",
       " 78,\n",
       " 87,\n",
       " 93,\n",
       " 98,\n",
       " 100,\n",
       " 103,\n",
       " 107,\n",
       " 108,\n",
       " 111,\n",
       " 122,\n",
       " 131,\n",
       " 132,\n",
       " 137,\n",
       " 142,\n",
       " 143,\n",
       " 148,\n",
       " 149,\n",
       " 151,\n",
       " 152,\n",
       " 153,\n",
       " 154,\n",
       " 155,\n",
       " 159,\n",
       " 161,\n",
       " 162,\n",
       " 166,\n",
       " 167,\n",
       " 168,\n",
       " 172,\n",
       " 173,\n",
       " 174,\n",
       " 176,\n",
       " 177,\n",
       " 178,\n",
       " 181,\n",
       " 183,\n",
       " 187,\n",
       " 188,\n",
       " 189,\n",
       " 196,\n",
       " 198,\n",
       " 201,\n",
       " 206,\n",
       " 211,\n",
       " 213,\n",
       " 215,\n",
       " 217,\n",
       " 218,\n",
       " 220,\n",
       " 223,\n",
       " 229,\n",
       " 230,\n",
       " 238,\n",
       " 241,\n",
       " 246,\n",
       " 248,\n",
       " 254,\n",
       " 257,\n",
       " 260,\n",
       " 261,\n",
       " 265,\n",
       " 267,\n",
       " 269,\n",
       " 273,\n",
       " 277,\n",
       " 280,\n",
       " 286,\n",
       " 287,\n",
       " 291,\n",
       " 292,\n",
       " 297,\n",
       " 300,\n",
       " 302,\n",
       " 303,\n",
       " 306,\n",
       " 307,\n",
       " 313,\n",
       " 317,\n",
       " 318,\n",
       " 321,\n",
       " 323,\n",
       " 330,\n",
       " 331,\n",
       " 337,\n",
       " 340,\n",
       " 344,\n",
       " 347,\n",
       " 355,\n",
       " 359,\n",
       " 363,\n",
       " 365,\n",
       " 368,\n",
       " 372,\n",
       " 373,\n",
       " 374,\n",
       " 382,\n",
       " 383,\n",
       " 384,\n",
       " 385,\n",
       " 388,\n",
       " 395,\n",
       " 399,\n",
       " 400,\n",
       " 402,\n",
       " 405,\n",
       " 409,\n",
       " 410,\n",
       " 415,\n",
       " 427,\n",
       " 434,\n",
       " 437,\n",
       " 438,\n",
       " 442,\n",
       " 443,\n",
       " 445,\n",
       " 447,\n",
       " 449,\n",
       " 454,\n",
       " 457,\n",
       " 462,\n",
       " 465,\n",
       " 466,\n",
       " 467,\n",
       " 472,\n",
       " 474,\n",
       " 476,\n",
       " 477,\n",
       " 480,\n",
       " 483,\n",
       " 491,\n",
       " 495,\n",
       " 496,\n",
       " 499,\n",
       " 503,\n",
       " 505,\n",
       " 509,\n",
       " 513,\n",
       " 514,\n",
       " 515,\n",
       " 516,\n",
       " 517,\n",
       " 518,\n",
       " 530,\n",
       " 532,\n",
       " 536,\n",
       " 538,\n",
       " 539,\n",
       " 542,\n",
       " 543,\n",
       " 544,\n",
       " 545,\n",
       " 553,\n",
       " 554,\n",
       " 560,\n",
       " 563,\n",
       " 566,\n",
       " 567,\n",
       " 569,\n",
       " 571,\n",
       " 572,\n",
       " 574,\n",
       " 581,\n",
       " 589,\n",
       " 594,\n",
       " 596,\n",
       " 604,\n",
       " 608,\n",
       " 615,\n",
       " 617,\n",
       " 620,\n",
       " 627,\n",
       " 630,\n",
       " 631,\n",
       " 632,\n",
       " 633,\n",
       " 634,\n",
       " 635,\n",
       " 637,\n",
       " 638,\n",
       " 646,\n",
       " 648,\n",
       " 654,\n",
       " 657,\n",
       " 660,\n",
       " 662,\n",
       " 668,\n",
       " 670,\n",
       " 671,\n",
       " 681,\n",
       " 683,\n",
       " 686,\n",
       " 688,\n",
       " 704,\n",
       " 708,\n",
       " 712,\n",
       " 719,\n",
       " 720,\n",
       " 724,\n",
       " 732,\n",
       " 741,\n",
       " 742,\n",
       " 743,\n",
       " 752,\n",
       " 756,\n",
       " 762,\n",
       " 763,\n",
       " 765,\n",
       " 768,\n",
       " 769,\n",
       " 773,\n",
       " 774,\n",
       " 777,\n",
       " 780,\n",
       " 783,\n",
       " 788,\n",
       " 789,\n",
       " 791,\n",
       " 793,\n",
       " 796,\n",
       " 797,\n",
       " 810,\n",
       " 811,\n",
       " 812,\n",
       " 813,\n",
       " 814,\n",
       " 815,\n",
       " 817,\n",
       " 818,\n",
       " 821,\n",
       " 822,\n",
       " 826,\n",
       " 827,\n",
       " 834,\n",
       " 839,\n",
       " 845,\n",
       " 847,\n",
       " 848,\n",
       " 850,\n",
       " 851,\n",
       " 858,\n",
       " 863,\n",
       " 865,\n",
       " 866,\n",
       " 867,\n",
       " 868,\n",
       " 876,\n",
       " 877,\n",
       " 883,\n",
       " 889,\n",
       " 891,\n",
       " 894,\n",
       " 901,\n",
       " 902,\n",
       " 903,\n",
       " 907,\n",
       " 910,\n",
       " 911,\n",
       " 920,\n",
       " 921,\n",
       " 923,\n",
       " 924,\n",
       " 925,\n",
       " 928,\n",
       " 930,\n",
       " 934,\n",
       " 938,\n",
       " 942,\n",
       " 943,\n",
       " 944,\n",
       " 945,\n",
       " 949,\n",
       " 952,\n",
       " 958,\n",
       " 962,\n",
       " 963,\n",
       " 969,\n",
       " 977,\n",
       " 979,\n",
       " 983,\n",
       " 986,\n",
       " 987,\n",
       " 988,\n",
       " 989,\n",
       " 990,\n",
       " 991,\n",
       " 992,\n",
       " 995,\n",
       " 999,\n",
       " 1000,\n",
       " 1001,\n",
       " 1003,\n",
       " 1006,\n",
       " 1016,\n",
       " 1018,\n",
       " 1023]"
      ]
     },
     "execution_count": 61,
     "metadata": {},
     "output_type": "execute_result"
    }
   ],
   "source": [
    "removed_features = [column for column in fp_df.columns \n",
    "                     if column not in fp_df.columns[selector.get_support()]]\n",
    "removed_features"
   ]
  },
  {
   "cell_type": "code",
   "execution_count": 62,
   "id": "8a9121ea",
   "metadata": {},
   "outputs": [],
   "source": [
    "# Izračunajte varijancu za svaku kolonu\n",
    "#variances = fp_df.var()\n",
    "\n",
    "# Pronađite kolone koje imaju varijancu veću od 1e-2\n",
    "#high_variance_cols = variances[variances > 0.01].index\n",
    "#print(high_variance_cols)\n",
    "\n",
    "# Filtrirajte podatke da zadržite samo te kolone\n",
    "#fp_df=fp_df[high_variance_cols]"
   ]
  },
  {
   "cell_type": "code",
   "execution_count": 63,
   "id": "b0ff0d22",
   "metadata": {},
   "outputs": [],
   "source": [
    "# Spajanje otisaka s originalnim podacima\n",
    "final_data = pd.concat([data, fp_df], axis=1)"
   ]
  },
  {
   "cell_type": "code",
   "execution_count": 64,
   "id": "33be26fc",
   "metadata": {},
   "outputs": [],
   "source": [
    "final_data.to_csv('../../data/solubility_features.csv')"
   ]
  },
  {
   "cell_type": "code",
   "execution_count": 65,
   "id": "f0648e90",
   "metadata": {},
   "outputs": [
    {
     "data": {
      "text/plain": [
       "((2680, 1031), (671, 1031))"
      ]
     },
     "execution_count": 65,
     "metadata": {},
     "output_type": "execute_result"
    }
   ],
   "source": [
    "train_set,test_set=train_test_split(final_data,test_size=.2,random_state=42) \n",
    "train_set.shape, test_set.shape"
   ]
  },
  {
   "cell_type": "code",
   "execution_count": 66,
   "id": "7e807840",
   "metadata": {},
   "outputs": [
    {
     "name": "stdout",
     "output_type": "stream",
     "text": [
      "Mean Squared Error: 1.1167944435034856\n",
      "R2 Score: 0.7544871660960668\n"
     ]
    }
   ],
   "source": [
    "features = final_data.columns[3:]\n",
    "target = 'Solubility'\n",
    "\n",
    "# Podijela podataka na skupove za treniranje, validaciju i testiranje\n",
    "X_train, X_test, y_train, y_test = train_test_split(final_data[features], final_data[target], test_size=0.2, random_state=42)\n",
    "X_train, X_valid, y_train, y_valid = train_test_split(X_train, y_train, test_size=0.25, random_state=42)\n",
    "\n",
    "# Treniranje XGBoost modela s ranom zaustavom\n",
    "model = xgb.XGBRegressor(n_estimators=110, learning_rate=0.15, max_depth=8)\n",
    "model.fit(X_train, y_train, eval_set=[(X_valid, y_valid)], verbose=False)\n",
    "\n",
    "# Predviđanje na testnom skupu\n",
    "y_pred = model.predict(X_test)\n",
    "\n",
    "# Izračunavanje srednjekvadratne pogreške\n",
    "mse = mean_squared_error(y_test, y_pred)\n",
    "print('Mean Squared Error:', mse)\n",
    "\n",
    "# Izračunavanje R2 koeficijenta determinacije\n",
    "r2 = r2_score(y_test, y_pred)\n",
    "print('R2 Score:', r2)"
   ]
  },
  {
   "cell_type": "code",
   "execution_count": 67,
   "id": "7622b802",
   "metadata": {},
   "outputs": [
    {
     "data": {
      "image/png": "[encoded data removed]",
      "text/plain": [
       "<Figure size 432x288 with 1 Axes>"
      ]
     },
     "metadata": {
      "needs_background": "light"
     },
     "output_type": "display_data"
    }
   ],
   "source": [
    "# Predviđanje na testnom skupu\n",
    "y_pred = model.predict(X_test)\n",
    "\n",
    "# Plotanje dijagrama raspršenosti\n",
    "plt.scatter(y_test, y_pred, c='red', label='Predviđene vrijednosti')\n",
    "plt.plot([min(y_test), max(y_test)], [min(y_test), max(y_test)], linestyle='--', color='green', label='Linija identiteta')\n",
    "plt.xlabel('Stvarne vrijednosti')\n",
    "plt.ylabel('Predviđene vrijednosti')\n",
    "plt.title('Dijagram raspršenosti - Stvarne vs Predviđene vrijednosti')\n",
    "\n",
    "plt.legend()\n",
    "plt.show()"
   ]
  },
  {
   "cell_type": "code",
   "execution_count": 68,
   "id": "4e6a97bf",
   "metadata": {},
   "outputs": [
    {
     "name": "stdout",
     "output_type": "stream",
     "text": [
      "Fitting 3 folds for each of 8 candidates, totalling 24 fits\n",
      "Najbolji parametri: {'learning_rate': 0.15, 'max_depth': 5, 'n_estimators': 100}\n",
      "Mean Squared Error: 1.1676934253133688\n",
      "R2 Score: 0.7432976823556509\n"
     ]
    }
   ],
   "source": [
    "# Definirajte raspon vrijednosti za parametre koje želite optimizirati\n",
    "param_grid = {\n",
    "    'n_estimators': [100, 110],\n",
    "    'learning_rate': [0.05, 0.15],\n",
    "    'max_depth': [5, 8]\n",
    "}\n",
    "\n",
    "# Inicijalizirajte model koji želite optimizirati\n",
    "model = xgb.XGBRegressor()\n",
    "\n",
    "# Inicijalizirajte pretraživač po rešetci s modelom i parametrima\n",
    "grid_search = GridSearchCV(model, param_grid, cv=3, scoring='neg_mean_squared_error', verbose=1)\n",
    "\n",
    "# Izvršite pretraživanje po rešetci na podacima za treniranje\n",
    "grid_search.fit(X_train, y_train)\n",
    "\n",
    "# Ispišite najbolje kombinacije parametara\n",
    "print(\"Najbolji parametri:\", grid_search.best_params_)\n",
    "\n",
    "# Trenirajte model s najboljim parametrima na cijelom skupu za treniranje\n",
    "best_model = grid_search.best_estimator_\n",
    "best_model.fit(X_train, y_train)\n",
    "\n",
    "# Predviđanje na testnom skupu\n",
    "y_pred = best_model.predict(X_test)\n",
    "\n",
    "# Izračunavanje srednjekvadratne pogreške\n",
    "mse = mean_squared_error(y_test, y_pred)\n",
    "print('Mean Squared Error:', mse)\n",
    "\n",
    "# Izračunavanje R2 koeficijenta determinacije\n",
    "r2 = r2_score(y_test, y_pred)\n",
    "print('R2 Score:', r2)"
   ]
  },
  {
   "cell_type": "code",
   "execution_count": null,
   "id": "2d055712",
   "metadata": {},
   "outputs": [],
   "source": []
  }
 ],
 "metadata": {
  "kernelspec": {
   "display_name": "Python 3",
   "language": "python",
   "name": "python3"
  },
  "language_info": {
   "codemirror_mode": {
    "name": "ipython",
    "version": 3
   },
   "file_extension": ".py",
   "mimetype": "text/x-python",
   "name": "python",
   "nbconvert_exporter": "python",
   "pygments_lexer": "ipython3",
   "version": "3.10.12"
  }
 },
 "nbformat": 4,
 "nbformat_minor": 5
}
