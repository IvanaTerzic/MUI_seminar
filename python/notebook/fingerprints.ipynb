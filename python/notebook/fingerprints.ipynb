{
 "cells": [
  {
   "cell_type": "code",
   "execution_count": 1,
   "id": "8f046795",
   "metadata": {},
   "outputs": [],
   "source": [
    "# izracunati fingerprints, izbaciti kojima je varijanca 0, ubaciti u model, usporediti rezultate s prijasnjima"
   ]
  },
  {
   "cell_type": "markdown",
   "id": "a6003de0",
   "metadata": {},
   "source": [
    "# XGBoost regression model - 2d deskriptori, fingerprints"
   ]
  },
  {
   "cell_type": "code",
   "execution_count": 2,
   "id": "cc194332",
   "metadata": {},
   "outputs": [
    {
     "name": "stderr",
     "output_type": "stream",
     "text": [
      "/usr/lib/python3/dist-packages/scipy/__init__.py:146: UserWarning: A NumPy version >=1.17.3 and <1.25.0 is required for this version of SciPy (detected version 1.26.1\n",
      "  warnings.warn(f\"A NumPy version >={np_minversion} and <{np_maxversion}\"\n"
     ]
    }
   ],
   "source": [
    "import sys\n",
    "sys.path.append('../src')\n",
    "from modules import *\n",
    "from funkcije import calculate_fingerprint"
   ]
  },
  {
   "cell_type": "code",
   "execution_count": 3,
   "id": "389ab69f",
   "metadata": {},
   "outputs": [],
   "source": [
    "data = pd.read_csv('../../data/solubility_all_new_data.csv', index_col=0)"
   ]
  },
  {
   "cell_type": "code",
   "execution_count": 4,
   "id": "dd491f55",
   "metadata": {},
   "outputs": [
    {
     "name": "stdout",
     "output_type": "stream",
     "text": [
      "[0 0 0 ... 0 0 0]\n",
      "[0 0 0 ... 0 0 0]\n",
      "[0 0 0 ... 0 0 0]\n",
      "[0 0 0 ... 0 0 0]\n",
      "[0 0 0 ... 0 0 0]\n",
      "[0 0 0 ... 0 0 0]\n",
      "[0 0 0 ... 0 0 0]\n",
      "[0 0 0 ... 0 0 0]\n",
      "[0 1 0 ... 0 0 0]\n",
      "[0 1 0 ... 0 0 0]\n"
     ]
    }
   ],
   "source": [
    "# Pretvaranje SMILES iz DataFrame-a u listu molekula\n",
    "smiles_list = data['smiles'].to_list()\n",
    "\n",
    "# Paralelno izračunavanje otisaka molekula\n",
    "with concurrent.futures.ThreadPoolExecutor() as executor:\n",
    "    fps = list(executor.map(calculate_fingerprint, smiles_list))\n",
    "\n",
    "# 'fps' sada sadrži otiske svih valjanih molekula\n",
    "for fp in fps[:10]:  # Ispis prvih 10 otisaka \n",
    "    print(fp)"
   ]
  },
  {
   "cell_type": "code",
   "execution_count": 5,
   "id": "44ea2ba3",
   "metadata": {},
   "outputs": [
    {
     "name": "stdout",
     "output_type": "stream",
     "text": [
      "(3351, 7) (3351, 1024)\n"
     ]
    }
   ],
   "source": [
    "# Pretvaranje liste otisaka u DataFrame\n",
    "fp_df = pd.DataFrame(fps)\n",
    "print(data.shape, fp_df.shape)"
   ]
  },
  {
   "cell_type": "code",
   "execution_count": 6,
   "id": "8a9121ea",
   "metadata": {},
   "outputs": [
    {
     "name": "stdout",
     "output_type": "stream",
     "text": [
      "Index([   0,    1,    2,    3,    4,    5,    7,    8,    9,   10,\n",
      "       ...\n",
      "       1011, 1012, 1013, 1014, 1015, 1017, 1019, 1020, 1021, 1022],\n",
      "      dtype='int64', length=711)\n"
     ]
    }
   ],
   "source": [
    "# Izračunajte varijancu za svaku kolonu\n",
    "variances = fp_df.var()\n",
    "\n",
    "# Pronađite kolone koje imaju varijancu veću od 1e-2\n",
    "high_variance_cols = variances[variances > 0.01].index\n",
    "print(high_variance_cols)\n",
    "\n",
    "# Filtrirajte podatke da zadržite samo te kolone\n",
    "fp_df=fp_df[high_variance_cols]"
   ]
  },
  {
   "cell_type": "code",
   "execution_count": 7,
   "id": "b0ff0d22",
   "metadata": {},
   "outputs": [],
   "source": [
    "# Spajanje otisaka s originalnim podacima\n",
    "final_data = pd.concat([data, fp_df], axis=1)"
   ]
  },
  {
   "cell_type": "code",
   "execution_count": 12,
   "id": "33be26fc",
   "metadata": {},
   "outputs": [],
   "source": [
    "final_data.to_csv('../../data/solubility_features.csv')"
   ]
  },
  {
   "cell_type": "code",
   "execution_count": 8,
   "id": "f0648e90",
   "metadata": {},
   "outputs": [
    {
     "data": {
      "text/plain": [
       "((2680, 718), (671, 718))"
      ]
     },
     "execution_count": 8,
     "metadata": {},
     "output_type": "execute_result"
    }
   ],
   "source": [
    "train_set,test_set=train_test_split(final_data,test_size=.2,random_state=42) \n",
    "train_set.shape, test_set.shape"
   ]
  },
  {
   "cell_type": "code",
   "execution_count": 9,
   "id": "7e807840",
   "metadata": {},
   "outputs": [
    {
     "name": "stdout",
     "output_type": "stream",
     "text": [
      "Mean Squared Error: 1.1230269987548909\n",
      "R2 Score: 0.7531170193236357\n"
     ]
    }
   ],
   "source": [
    "features = final_data.columns[3:]\n",
    "target = 'Solubility'\n",
    "\n",
    "# Podijela podataka na skupove za treniranje, validaciju i testiranje\n",
    "X_train, X_test, y_train, y_test = train_test_split(final_data[features], final_data[target], test_size=0.2, random_state=42)\n",
    "X_train, X_valid, y_train, y_valid = train_test_split(X_train, y_train, test_size=0.25, random_state=42)\n",
    "\n",
    "# Treniranje XGBoost modela s ranom zaustavom\n",
    "model = xgb.XGBRegressor(n_estimators=110, learning_rate=0.15, max_depth=8)\n",
    "model.fit(X_train, y_train, eval_set=[(X_valid, y_valid)], verbose=False)\n",
    "\n",
    "# Predviđanje na testnom skupu\n",
    "y_pred = model.predict(X_test)\n",
    "\n",
    "# Izračunavanje srednjekvadratne pogreške\n",
    "mse = mean_squared_error(y_test, y_pred)\n",
    "print('Mean Squared Error:', mse)\n",
    "\n",
    "# Izračunavanje R2 koeficijenta determinacije\n",
    "r2 = r2_score(y_test, y_pred)\n",
    "print('R2 Score:', r2)"
   ]
  },
  {
   "cell_type": "code",
   "execution_count": 10,
   "id": "7622b802",
   "metadata": {},
   "outputs": [
    {
     "data": {
      "image/png": "[encoded data removed]",
      "text/plain": [
       "<Figure size 432x288 with 1 Axes>"
      ]
     },
     "metadata": {
      "needs_background": "light"
     },
     "output_type": "display_data"
    }
   ],
   "source": [
    "# Predviđanje na testnom skupu\n",
    "y_pred = model.predict(X_test)\n",
    "\n",
    "# Plotanje dijagrama raspršenosti\n",
    "plt.scatter(y_test, y_pred, c='red', label='Predviđene vrijednosti')\n",
    "plt.plot([min(y_test), max(y_test)], [min(y_test), max(y_test)], linestyle='--', color='green', label='Linija identiteta')\n",
    "plt.xlabel('Stvarne vrijednosti')\n",
    "plt.ylabel('Predviđene vrijednosti')\n",
    "plt.title('Dijagram raspršenosti - Stvarne vs Predviđene vrijednosti')\n",
    "\n",
    "plt.legend()\n",
    "plt.show()"
   ]
  },
  {
   "cell_type": "code",
   "execution_count": 11,
   "id": "4e6a97bf",
   "metadata": {},
   "outputs": [
    {
     "name": "stdout",
     "output_type": "stream",
     "text": [
      "Fitting 3 folds for each of 8 candidates, totalling 24 fits\n",
      "Najbolji parametri: {'learning_rate': 0.15, 'max_depth': 5, 'n_estimators': 100}\n",
      "Mean Squared Error: 1.15284073790364\n",
      "R2 Score: 0.7465628538455915\n"
     ]
    }
   ],
   "source": [
    "# Definirajte raspon vrijednosti za parametre koje želite optimizirati\n",
    "param_grid = {\n",
    "    'n_estimators': [100, 110],\n",
    "    'learning_rate': [0.05, 0.15],\n",
    "    'max_depth': [5, 8]\n",
    "}\n",
    "\n",
    "# Inicijalizirajte model koji želite optimizirati\n",
    "model = xgb.XGBRegressor()\n",
    "\n",
    "# Inicijalizirajte pretraživač po rešetci s modelom i parametrima\n",
    "grid_search = GridSearchCV(model, param_grid, cv=3, scoring='neg_mean_squared_error', verbose=1)\n",
    "\n",
    "# Izvršite pretraživanje po rešetci na podacima za treniranje\n",
    "grid_search.fit(X_train, y_train)\n",
    "\n",
    "# Ispišite najbolje kombinacije parametara\n",
    "print(\"Najbolji parametri:\", grid_search.best_params_)\n",
    "\n",
    "# Trenirajte model s najboljim parametrima na cijelom skupu za treniranje\n",
    "best_model = grid_search.best_estimator_\n",
    "best_model.fit(X_train, y_train)\n",
    "\n",
    "# Predviđanje na testnom skupu\n",
    "y_pred = best_model.predict(X_test)\n",
    "\n",
    "# Izračunavanje srednjekvadratne pogreške\n",
    "mse = mean_squared_error(y_test, y_pred)\n",
    "print('Mean Squared Error:', mse)\n",
    "\n",
    "# Izračunavanje R2 koeficijenta determinacije\n",
    "r2 = r2_score(y_test, y_pred)\n",
    "print('R2 Score:', r2)"
   ]
  },
  {
   "cell_type": "code",
   "execution_count": null,
   "id": "2d055712",
   "metadata": {},
   "outputs": [],
   "source": []
  }
 ],
 "metadata": {
  "kernelspec": {
   "display_name": "Python 3 (ipykernel)",
   "language": "python",
   "name": "python3"
  },
  "language_info": {
   "codemirror_mode": {
    "name": "ipython",
    "version": 3
   },
   "file_extension": ".py",
   "mimetype": "text/x-python",
   "name": "python",
   "nbconvert_exporter": "python",
   "pygments_lexer": "ipython3",
   "version": "3.10.12"
  }
 },
 "nbformat": 4,
 "nbformat_minor": 5
}
